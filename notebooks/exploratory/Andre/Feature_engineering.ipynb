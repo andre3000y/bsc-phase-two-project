{
 "cells": [
  {
   "cell_type": "code",
   "execution_count": 2,
   "id": "bee84e66-358d-46d4-898c-74b89386278d",
   "metadata": {},
   "outputs": [],
   "source": [
    "data = pd.read_csv('../../../data/kc_house_data_update3.csv')\n",
    "data['act_prce'] = data['price']\n",
    "data['price'] = data['price'].map(np.log)\n",
    "data = data.loc[data['bedrooms'] < 15]\n",
    "data['years_since_new'] = data['date'].map(lambda x: int(x[-4:])) - data['yr_renovated']\n",
    "data.loc[data['view'] < 1, 'view'] = 0\n",
    "data['log_sqft_living'] = data['sqft_living'].map(np.log)\n",
    "data.drop('sqft_living', axis = 1, inplace = True)"
   ]
  },
  {
   "cell_type": "code",
   "execution_count": 3,
   "id": "060d3ca2-e36c-4014-870c-f9420135c313",
   "metadata": {},
   "outputs": [],
   "source": [
    "data.to_csv(path_or_buf = '../../../data/kc_house_data_update4.csv', index = False)"
   ]
  }
 ],
 "metadata": {
  "kernelspec": {
   "display_name": "learn-env",
   "language": "python",
   "name": "learn-env"
  },
  "language_info": {
   "codemirror_mode": {
    "name": "ipython",
    "version": 3
   },
   "file_extension": ".py",
   "mimetype": "text/x-python",
   "name": "python",
   "nbconvert_exporter": "python",
   "pygments_lexer": "ipython3",
   "version": "3.8.5"
  }
 },
 "nbformat": 4,
 "nbformat_minor": 5
}
