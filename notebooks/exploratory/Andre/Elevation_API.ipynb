{
 "cells": [
  {
   "cell_type": "code",
   "execution_count": 1,
   "id": "34f59b47-da82-4daf-baa3-19dc7a48f05a",
   "metadata": {},
   "outputs": [],
   "source": [
    "import pandas as pd\n",
    "import requests"
   ]
  },
  {
   "cell_type": "code",
   "execution_count": 2,
   "id": "1f79a61c-d8af-413c-8133-63e2fc020fa9",
   "metadata": {},
   "outputs": [],
   "source": [
    "data = pd.read_csv('../../../data/kc_house_data_update4.csv')"
   ]
  },
  {
   "cell_type": "code",
   "execution_count": 3,
   "id": "62deb53d-415f-4b9e-8441-5e29be636938",
   "metadata": {},
   "outputs": [
    {
     "data": {
      "text/plain": [
       "0                   47.5112,-122.257\n",
       "1        47.721000000000004,-122.319\n",
       "2        47.7379,-122.23299999999999\n",
       "3        47.5208,-122.39299999999999\n",
       "4                   47.6168,-122.045\n",
       "                    ...             \n",
       "21579               47.6993,-122.346\n",
       "21580    47.5107,-122.36200000000001\n",
       "21581    47.5944,-122.29899999999999\n",
       "21582               47.5345,-122.069\n",
       "21583    47.5941,-122.29899999999999\n",
       "Length: 21584, dtype: object"
      ]
     },
     "execution_count": 3,
     "metadata": {},
     "output_type": "execute_result"
    }
   ],
   "source": [
    "latlongs = data['lat'].map(str) + ',' + data['long'].map(str)\n",
    "latlongs"
   ]
  },
  {
   "cell_type": "code",
   "execution_count": 4,
   "id": "0b26e96d-d46d-4241-abbe-d925f0cfa6cd",
   "metadata": {},
   "outputs": [],
   "source": [
    "latlongs = list(latlongs)\n",
    "subsets = []\n",
    "current_start = 0\n",
    "for x in range(len(latlongs)//500):\n",
    "    subset = latlongs[current_start:current_start+500]\n",
    "    subsets.append(subset)\n",
    "    current_start += 500\n",
    "subset = latlongs[-84:]\n",
    "subsets.append(subset)"
   ]
  },
  {
   "cell_type": "code",
   "execution_count": 5,
   "id": "00da5312-49be-46f6-ba2d-94a0bb32181c",
   "metadata": {},
   "outputs": [
    {
     "data": {
      "text/plain": [
       "21584"
      ]
     },
     "execution_count": 5,
     "metadata": {},
     "output_type": "execute_result"
    }
   ],
   "source": [
    "sizes = [len(subset) for subset in subsets]\n",
    "sum(sizes)"
   ]
  },
  {
   "cell_type": "code",
   "execution_count": 6,
   "id": "fac04bce-37d6-499f-9481-495d58a6a0c0",
   "metadata": {},
   "outputs": [],
   "source": [
    "points = ['|'.join(subset) for subset in subsets]"
   ]
  },
  {
   "cell_type": "code",
   "execution_count": 7,
   "id": "fe0daa5a-f1ae-4c7b-8962-5c939356d4a6",
   "metadata": {},
   "outputs": [],
   "source": [
    "all_calls = []\n",
    "import time\n",
    "for subset in points:\n",
    "    url = f'https://maps.googleapis.com/maps/api/elevation/json?locations={subset}&key=YOUR-KEY-HERE'\n",
    "\n",
    "    payload = {}\n",
    "    headers = {}\n",
    "\n",
    "    response = requests.request('get', url, headers = headers, data = payload)\n",
    "\n",
    "    all_calls.append(response.json())"
   ]
  },
  {
   "cell_type": "markdown",
   "id": "7cdcf512-409d-4ea7-aa1b-ca28a5dcb9de",
   "metadata": {},
   "source": [
    "#### NOTE: The above code cell will not work without an API key.\n",
    "If you as a reader would like to run it, insert an API key into the url where it says `YOUR-KEY-HERE`. Otherwise, the `all_calls` and `conglomerate` objects seen later in the code are located in `notebooks/exploratory/Andre/Scraped` as objects pickled with the `pickle` library."
   ]
  },
  {
   "cell_type": "code",
   "execution_count": 8,
   "id": "1109bf68-7f2b-4b79-a22b-609eb6b96ae9",
   "metadata": {},
   "outputs": [],
   "source": [
    "conglomerate = []\n",
    "for call in all_calls:\n",
    "    conglomerate += call['results']"
   ]
  },
  {
   "cell_type": "code",
   "execution_count": 9,
   "id": "acf9a3eb-194d-488c-be24-3bfe07827745",
   "metadata": {},
   "outputs": [
    {
     "data": {
      "text/plain": [
       "21584"
      ]
     },
     "execution_count": 9,
     "metadata": {},
     "output_type": "execute_result"
    }
   ],
   "source": [
    "len(conglomerate)"
   ]
  },
  {
   "cell_type": "code",
   "execution_count": 10,
   "id": "1643609f-e2d3-40d8-a8d2-41f3bcfd8f9d",
   "metadata": {},
   "outputs": [],
   "source": [
    "import pickle\n",
    "with open('Scraped/all_calls.pickle', 'wb') as f:\n",
    "    pickle.dump(all_calls, f, pickle.HIGHEST_PROTOCOL)\n",
    "    \n",
    "with open('Scraped/conglomerate.pickle', 'wb') as f:\n",
    "    pickle.dump(conglomerate, f, pickle.HIGHEST_PROTOCOL)"
   ]
  },
  {
   "cell_type": "code",
   "execution_count": 11,
   "id": "d00b04b7-e47d-465f-84a7-016ed2432f5e",
   "metadata": {},
   "outputs": [],
   "source": [
    "elevations = []\n",
    "lats = []\n",
    "longs = []\n",
    "for point in conglomerate:\n",
    "    elevations.append(point['elevation'])\n",
    "    lats.append(point['location']['lat'])\n",
    "    longs.append(point['location']['lng'])"
   ]
  },
  {
   "cell_type": "code",
   "execution_count": 12,
   "id": "7fdfe4cb-5a43-4107-84fd-1961b8154fce",
   "metadata": {},
   "outputs": [],
   "source": [
    "import numpy as np\n",
    "lats = np.array(lats)\n",
    "longs = np.array(longs)"
   ]
  },
  {
   "cell_type": "code",
   "execution_count": 13,
   "id": "9d6f440b-a42d-4db6-b5bf-3170b7e1d618",
   "metadata": {},
   "outputs": [
    {
     "data": {
      "text/plain": [
       "7.105427357601002e-15"
      ]
     },
     "execution_count": 13,
     "metadata": {},
     "output_type": "execute_result"
    }
   ],
   "source": [
    "abs((lats - data['lat'])).max()"
   ]
  },
  {
   "cell_type": "code",
   "execution_count": 14,
   "id": "8043f9f4-0f74-4a10-bdfb-7016bc348993",
   "metadata": {},
   "outputs": [
    {
     "data": {
      "text/plain": [
       "1.4210854715202004e-14"
      ]
     },
     "execution_count": 14,
     "metadata": {},
     "output_type": "execute_result"
    }
   ],
   "source": [
    "abs((longs - data['long'])).max()"
   ]
  },
  {
   "cell_type": "code",
   "execution_count": 15,
   "id": "e830f627-abca-491f-ba74-da4dda483a6b",
   "metadata": {},
   "outputs": [],
   "source": [
    "data['elevation'] = elevations"
   ]
  },
  {
   "cell_type": "code",
   "execution_count": 16,
   "id": "3db5e619-c535-4e92-83b4-357c25b39684",
   "metadata": {},
   "outputs": [
    {
     "data": {
      "text/html": [
       "<div>\n",
       "<style scoped>\n",
       "    .dataframe tbody tr th:only-of-type {\n",
       "        vertical-align: middle;\n",
       "    }\n",
       "\n",
       "    .dataframe tbody tr th {\n",
       "        vertical-align: top;\n",
       "    }\n",
       "\n",
       "    .dataframe thead th {\n",
       "        text-align: right;\n",
       "    }\n",
       "</style>\n",
       "<table border=\"1\" class=\"dataframe\">\n",
       "  <thead>\n",
       "    <tr style=\"text-align: right;\">\n",
       "      <th></th>\n",
       "      <th>lat</th>\n",
       "      <th>long</th>\n",
       "      <th>elevation</th>\n",
       "    </tr>\n",
       "  </thead>\n",
       "  <tbody>\n",
       "    <tr>\n",
       "      <th>0</th>\n",
       "      <td>47.5112</td>\n",
       "      <td>-122.257</td>\n",
       "      <td>86.437805</td>\n",
       "    </tr>\n",
       "    <tr>\n",
       "      <th>1</th>\n",
       "      <td>47.7210</td>\n",
       "      <td>-122.319</td>\n",
       "      <td>106.938599</td>\n",
       "    </tr>\n",
       "    <tr>\n",
       "      <th>2</th>\n",
       "      <td>47.7379</td>\n",
       "      <td>-122.233</td>\n",
       "      <td>147.442520</td>\n",
       "    </tr>\n",
       "    <tr>\n",
       "      <th>3</th>\n",
       "      <td>47.5208</td>\n",
       "      <td>-122.393</td>\n",
       "      <td>15.198629</td>\n",
       "    </tr>\n",
       "    <tr>\n",
       "      <th>4</th>\n",
       "      <td>47.6168</td>\n",
       "      <td>-122.045</td>\n",
       "      <td>161.984726</td>\n",
       "    </tr>\n",
       "    <tr>\n",
       "      <th>...</th>\n",
       "      <td>...</td>\n",
       "      <td>...</td>\n",
       "      <td>...</td>\n",
       "    </tr>\n",
       "    <tr>\n",
       "      <th>21579</th>\n",
       "      <td>47.6993</td>\n",
       "      <td>-122.346</td>\n",
       "      <td>94.916382</td>\n",
       "    </tr>\n",
       "    <tr>\n",
       "      <th>21580</th>\n",
       "      <td>47.5107</td>\n",
       "      <td>-122.362</td>\n",
       "      <td>94.977394</td>\n",
       "    </tr>\n",
       "    <tr>\n",
       "      <th>21581</th>\n",
       "      <td>47.5944</td>\n",
       "      <td>-122.299</td>\n",
       "      <td>66.968323</td>\n",
       "    </tr>\n",
       "    <tr>\n",
       "      <th>21582</th>\n",
       "      <td>47.5345</td>\n",
       "      <td>-122.069</td>\n",
       "      <td>151.926895</td>\n",
       "    </tr>\n",
       "    <tr>\n",
       "      <th>21583</th>\n",
       "      <td>47.5941</td>\n",
       "      <td>-122.299</td>\n",
       "      <td>66.014427</td>\n",
       "    </tr>\n",
       "  </tbody>\n",
       "</table>\n",
       "<p>21584 rows × 3 columns</p>\n",
       "</div>"
      ],
      "text/plain": [
       "           lat     long   elevation\n",
       "0      47.5112 -122.257   86.437805\n",
       "1      47.7210 -122.319  106.938599\n",
       "2      47.7379 -122.233  147.442520\n",
       "3      47.5208 -122.393   15.198629\n",
       "4      47.6168 -122.045  161.984726\n",
       "...        ...      ...         ...\n",
       "21579  47.6993 -122.346   94.916382\n",
       "21580  47.5107 -122.362   94.977394\n",
       "21581  47.5944 -122.299   66.968323\n",
       "21582  47.5345 -122.069  151.926895\n",
       "21583  47.5941 -122.299   66.014427\n",
       "\n",
       "[21584 rows x 3 columns]"
      ]
     },
     "execution_count": 16,
     "metadata": {},
     "output_type": "execute_result"
    }
   ],
   "source": [
    "data[['lat','long','elevation']]"
   ]
  },
  {
   "cell_type": "code",
   "execution_count": 17,
   "id": "3f0d7918-d51d-48f3-91d9-3142c9680653",
   "metadata": {},
   "outputs": [],
   "source": [
    "data.to_csv(path_or_buf = '../../../data/kc_house_data_update5.csv', index = False)"
   ]
  }
 ],
 "metadata": {
  "kernelspec": {
   "display_name": "learn-env",
   "language": "python",
   "name": "learn-env"
  },
  "language_info": {
   "codemirror_mode": {
    "name": "ipython",
    "version": 3
   },
   "file_extension": ".py",
   "mimetype": "text/x-python",
   "name": "python",
   "nbconvert_exporter": "python",
   "pygments_lexer": "ipython3",
   "version": "3.8.5"
  }
 },
 "nbformat": 4,
 "nbformat_minor": 5
}
