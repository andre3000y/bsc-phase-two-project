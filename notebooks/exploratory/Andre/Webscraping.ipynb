{
 "cells": [
  {
   "cell_type": "code",
   "execution_count": 1,
   "id": "930744dd-b526-44b4-b818-348a14a1aa11",
   "metadata": {},
   "outputs": [],
   "source": [
    "from bs4 import BeautifulSoup\n",
    "from time import sleep\n",
    "import urllib.request as request"
   ]
  },
  {
   "cell_type": "code",
   "execution_count": 2,
   "id": "b14c8ad8-c29c-460e-a02e-dc9a16b2fc5f",
   "metadata": {},
   "outputs": [],
   "source": [
    "url = 'https://www.bestplaces.net/find/zip.aspx?county=53033&st=WA'\n",
    "big_site = request.urlopen(url)"
   ]
  },
  {
   "cell_type": "code",
   "execution_count": 3,
   "id": "b7f1e508-19a7-4aab-9ad8-5026f7e73740",
   "metadata": {},
   "outputs": [],
   "source": [
    "soup = BeautifulSoup(big_site.read(), 'lxml')"
   ]
  },
  {
   "cell_type": "code",
   "execution_count": 4,
   "id": "8c1689a7-20e3-4f6e-aa5e-eb71d0d71596",
   "metadata": {},
   "outputs": [],
   "source": [
    "atags = soup.find_all('a')\n",
    "needed = []\n",
    "for a in atags:\n",
    "    text = a.text\n",
    "    if text[:5].isnumeric() and text[5] == ' ':\n",
    "        needed.append(a)"
   ]
  },
  {
   "cell_type": "code",
   "execution_count": 5,
   "id": "dc0a1932-8dff-4380-ba8a-3d0282775bda",
   "metadata": {},
   "outputs": [],
   "source": [
    "zip_links = {}\n",
    "for a in needed:\n",
    "    code = int(a.text[:5])\n",
    "    link = 'https://www.bestplaces.net' + a['href'][2:]\n",
    "    zip_links[code] = link"
   ]
  },
  {
   "cell_type": "code",
   "execution_count": 6,
   "id": "e5689f69-7cd3-41cd-a1ae-d5aba4e9d4f7",
   "metadata": {},
   "outputs": [
    {
     "name": "stdout",
     "output_type": "stream",
     "text": [
      "done\n",
      "done\n",
      "done\n",
      "done\n",
      "done\n",
      "done\n",
      "done\n",
      "done\n",
      "done\n",
      "done\n",
      "done\n",
      "done\n",
      "done\n",
      "done\n",
      "done\n",
      "done\n",
      "done\n",
      "done\n",
      "done\n",
      "done\n",
      "done\n",
      "done\n",
      "done\n",
      "done\n",
      "done\n",
      "done\n",
      "done\n",
      "done\n",
      "done\n",
      "done\n",
      "done\n",
      "done\n",
      "done\n",
      "done\n",
      "done\n",
      "done\n",
      "done\n",
      "done\n",
      "done\n",
      "done\n",
      "done\n",
      "done\n",
      "done\n",
      "done\n",
      "done\n",
      "done\n",
      "done\n",
      "done\n",
      "done\n",
      "done\n",
      "done\n",
      "done\n",
      "done\n",
      "done\n",
      "done\n",
      "done\n",
      "done\n",
      "done\n",
      "done\n",
      "done\n",
      "done\n",
      "done\n",
      "done\n",
      "done\n",
      "done\n",
      "done\n",
      "done\n",
      "done\n",
      "done\n",
      "done\n",
      "done\n",
      "done\n",
      "done\n",
      "done\n",
      "done\n",
      "done\n",
      "done\n",
      "done\n",
      "done\n",
      "done\n",
      "done\n",
      "done\n",
      "done\n",
      "done\n",
      "done\n"
     ]
    }
   ],
   "source": [
    "unemp = {}\n",
    "med_inc = {}\n",
    "med_price = {}\n",
    "med_age = {}\n",
    "comf = {}\n",
    "vallist = [unemp, med_inc, med_price, med_age, comf]\n",
    "for code, link in zip_links.items():\n",
    "    little_site = request.urlopen(link)\n",
    "    little_soup = BeautifulSoup(little_site.read(), 'lxml')\n",
    "    values = little_soup.find_all('p', style = 'font-size:33px;')\n",
    "    print('done')\n",
    "    for ind, value in enumerate(values):\n",
    "        vallist[ind][code] = value.text"
   ]
  },
  {
   "cell_type": "code",
   "execution_count": 13,
   "id": "7e2f7c52-17f7-4006-93eb-3fa0602e2809",
   "metadata": {},
   "outputs": [],
   "source": [
    "import pickle\n",
    "\n",
    "with open('Scraped/unemp.pickle', 'wb') as f:\n",
    "    pickle.dump(unemp, f, pickle.HIGHEST_PROTOCOL)\n",
    "\n",
    "with open('Scraped/med_inc.pickle', 'wb') as f:\n",
    "    pickle.dump(med_inc, f, pickle.HIGHEST_PROTOCOL)\n",
    "\n",
    "with open('Scraped/med_price.pickle', 'wb') as f:\n",
    "    pickle.dump(med_price, f, pickle.HIGHEST_PROTOCOL)\n",
    "\n",
    "with open('Scraped/med_age.pickle', 'wb') as f:\n",
    "    pickle.dump(med_age, f, pickle.HIGHEST_PROTOCOL)\n",
    "\n",
    "with open('Scraped/comf.pickle', 'wb') as f:\n",
    "    pickle.dump(comf, f, pickle.HIGHEST_PROTOCOL)"
   ]
  }
 ],
 "metadata": {
  "kernelspec": {
   "display_name": "learn-env",
   "language": "python",
   "name": "learn-env"
  },
  "language_info": {
   "codemirror_mode": {
    "name": "ipython",
    "version": 3
   },
   "file_extension": ".py",
   "mimetype": "text/x-python",
   "name": "python",
   "nbconvert_exporter": "python",
   "pygments_lexer": "ipython3",
   "version": "3.8.5"
  }
 },
 "nbformat": 4,
 "nbformat_minor": 5
}
