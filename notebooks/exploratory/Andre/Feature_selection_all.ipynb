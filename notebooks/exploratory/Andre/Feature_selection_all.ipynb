{
 "cells": [
  {
   "cell_type": "code",
   "execution_count": 1,
   "id": "aaf11072-25f8-41fe-bdd3-bfdc47205e52",
   "metadata": {},
   "outputs": [],
   "source": [
    "import pandas as pd\n",
    "import matplotlib.pyplot as plt\n",
    "import seaborn as sns\n",
    "import numpy as np\n",
    "import statsmodels.formula.api as smf\n",
    "import statsmodels.stats.api as sms\n",
    "from sklearn.preprocessing import PolynomialFeatures\n",
    "from sklearn.model_selection import KFold\n",
    "from sklearn.linear_model import LinearRegression"
   ]
  },
  {
   "cell_type": "code",
   "execution_count": 2,
   "id": "ba4b3fa7-0dda-4097-9a97-e82dca81d2fd",
   "metadata": {},
   "outputs": [],
   "source": [
    "data = pd.read_csv('../../../data/kc_house_data_binned.csv')"
   ]
  },
  {
   "cell_type": "code",
   "execution_count": 3,
   "id": "83461eeb-31e6-4a2f-ab8f-f8653d64c355",
   "metadata": {},
   "outputs": [],
   "source": [
    "to_square = ['median_prce','years_since_new','long','sqft_lot']\n",
    "for col in to_square:\n",
    "    data[col+'_man_sq'] = data[col]**2"
   ]
  },
  {
   "cell_type": "code",
   "execution_count": 4,
   "id": "514b3f12-a448-487a-b284-a4326fb5e46c",
   "metadata": {},
   "outputs": [],
   "source": [
    "data['median_prce_comfort_index_man_x'] = data['median_prce']*data['comfort_index']"
   ]
  },
  {
   "cell_type": "code",
   "execution_count": 5,
   "id": "baff41e5-a2f1-4219-8697-6ccdf74123a3",
   "metadata": {},
   "outputs": [],
   "source": [
    "def relevants(data):\n",
    "    rel = []\n",
    "    for col in data.columns:\n",
    "        if data[col].dtype != object:\n",
    "            rel.append(col)\n",
    "    return rel\n",
    "\n",
    "def graphs(data):\n",
    "    relevant = relevants(data.drop('price', axis = 1))\n",
    "    rowsplot = int(len(relevant)/2 + 1)\n",
    "\n",
    "    fig, axes = plt.subplots(nrows = rowsplot, ncols = 2, figsize=(20, 130))\n",
    "\n",
    "    for col, ax in zip(relevant, axes.flatten()):\n",
    "        sns.scatterplot(data = data, x = col, y = 'price', ax = ax)\n",
    "        ax.set_title(col, fontsize = 20)\n",
    "        \n",
    "def make_corrs(data, display = False):\n",
    "    corrs = data.corr().stack().reset_index()\n",
    "    corrs = corrs.loc[corrs['level_0'] != corrs['level_1']]\n",
    "    corrs['pair'] = corrs['level_0'] + ' '+ corrs['level_1']\n",
    "    corrs['pair'] = corrs['pair'].map(lambda x: ', '.join(sorted(x.split(' '))))\n",
    "    corrs.drop_duplicates(subset = 'pair', inplace = True)\n",
    "    corrs.drop(['level_1','level_0'], axis = 1, inplace = True)\n",
    "    corrs.set_index('pair', inplace = True)\n",
    "    corrs.columns = pd.Series('correlation')\n",
    "    corrs = abs(corrs).sort_values('correlation', ascending = False)\n",
    "    if display:\n",
    "        display(corrs)\n",
    "    return corrs\n",
    "\n",
    "def make_high_corrs(data, display = False):\n",
    "    corrs = make_corrs(data)\n",
    "    high_corrs = corrs.loc[corrs['correlation']>= 0.75]\n",
    "    if display:\n",
    "        display(high_corrs)\n",
    "    return high_corrs\n",
    "\n",
    "def make_corrs_with_price(data, display = False):\n",
    "    corrs = make_corrs(data)\n",
    "    corrs_with_price = corrs.loc[corrs.index.str.contains('price')]\n",
    "    if display:\n",
    "        display(corrs_with_price)\n",
    "    return corrs_with_price\n",
    "\n",
    "def check_homoscedastic(data, display = False):\n",
    "    results = []\n",
    "    for col in data.drop('price', axis = 1).columns:\n",
    "        lower = data[col].quantile(0.45)\n",
    "        upper = data[col].quantile(0.55)\n",
    "        mids = data.loc[(data[col] >= lower)&(data[col] <= upper)].index\n",
    "\n",
    "        index = [x for x in data.index if x not in mids]\n",
    "        formula = f'price~{col}'\n",
    "        model = smf.ols(formula = formula, data = data).fit()\n",
    "\n",
    "        results.append((col, sms.het_goldfeldquandt(model.resid.iloc[index], model.model.exog[index])[1]))\n",
    "\n",
    "    heteroscedastic = [(col, p) for col, p in results if p < 0.05]\n",
    "    if display:\n",
    "        print(heteroscedastic)\n",
    "    \n",
    "    return heteroscedastic, results\n",
    "\n",
    "def corr(x, y):\n",
    "    xbar = x.mean()\n",
    "    ybar = y.mean()\n",
    "    return sum((x-xbar)*(y-ybar))/np.sqrt(sum((x-xbar)**2)*sum((y-ybar)**2))\n",
    "\n"
   ]
  },
  {
   "cell_type": "code",
   "execution_count": 6,
   "id": "ca13664e-9c0b-4e96-8ca5-f2d5ccf58a3f",
   "metadata": {},
   "outputs": [
    {
     "name": "stdout",
     "output_type": "stream",
     "text": [
      "1225\n"
     ]
    }
   ],
   "source": [
    "poly = PolynomialFeatures(2)\n",
    "data_cop = data.drop(['price','date','zipcode','datefloat','act_prce','id'], axis = 1)\n",
    "poly.fit(data_cop)\n",
    "X = pd.DataFrame(poly.transform(data_cop), columns = poly.get_feature_names(data_cop.columns), index = data_cop.index)\n",
    "y = data['price']\n",
    "print(len(X.columns))\n",
    "linreg = LinearRegression()"
   ]
  },
  {
   "cell_type": "code",
   "execution_count": 7,
   "id": "60edd8b2-9059-4616-9f11-25813dbab080",
   "metadata": {},
   "outputs": [
    {
     "name": "stdout",
     "output_type": "stream",
     "text": [
      "Index(['1', 'sqft_lot', 'waterfront', 'grade', 'sqft_above', 'sqft_basement',\n",
      "       'yr_built', 'yr_renovated', 'lat', 'long',\n",
      "       ...\n",
      "       'years_since_new_man_sq^2', 'years_since_new_man_sq long_man_sq',\n",
      "       'years_since_new_man_sq sqft_lot_man_sq',\n",
      "       'years_since_new_man_sq median_prce_comfort_index_man_x',\n",
      "       'long_man_sq^2', 'long_man_sq sqft_lot_man_sq',\n",
      "       'long_man_sq median_prce_comfort_index_man_x', 'sqft_lot_man_sq^2',\n",
      "       'sqft_lot_man_sq median_prce_comfort_index_man_x',\n",
      "       'median_prce_comfort_index_man_x^2'],\n",
      "      dtype='object', length=1225)\n"
     ]
    }
   ],
   "source": [
    "print(X.columns)"
   ]
  },
  {
   "cell_type": "code",
   "execution_count": 8,
   "id": "c711a426-4310-4691-be45-6aa2aa6adbf4",
   "metadata": {},
   "outputs": [],
   "source": [
    "categoricals = ['bedrooms','bathrooms','floors','waterfront','view','condition','renovated']"
   ]
  },
  {
   "cell_type": "code",
   "execution_count": 9,
   "id": "2ec7f416-80ba-42f7-8d87-b700dd3ef139",
   "metadata": {},
   "outputs": [
    {
     "name": "stdout",
     "output_type": "stream",
     "text": [
      "Removing bedrooms_few^2--Removing bedrooms_few bedrooms_norm--Removing bedrooms_few bedrooms_many--Removing bedrooms_norm^2--Removing bedrooms_norm bedrooms_many--Removing bedrooms_many^2--Removing bathrooms_few^2--Removing bathrooms_few bathrooms_norm--Removing bathrooms_few bathrooms_many--Removing bathrooms_norm^2--Removing bathrooms_norm bathrooms_many--Removing bathrooms_many^2--Removing floors_low^2--Removing floors_low floors_norm--Removing floors_low floors_many--Removing floors_norm^2--Removing floors_norm floors_many--Removing floors_many^2--Removing waterfront^2--Removing view_none^2--Removing view_none view_avg--Removing view_none view_good--Removing view_avg^2--Removing view_avg view_good--Removing view_good^2--Removing condition_awful^2--Removing condition_awful condition_avg--Removing condition_awful condition_good--Removing condition_avg^2--Removing condition_avg condition_good--Removing condition_good^2--Removing yr_built yr_renovated--Removing yr_renovated^2--Removing renovated^2--"
     ]
    }
   ],
   "source": [
    "dropped = 0\n",
    "for cat in categoricals:\n",
    "    cols = X.columns[X.columns.str.contains(cat)]\n",
    "    for col in cols:\n",
    "        if len(col.split(' ')) == 2:\n",
    "            factors = col.split(' ')\n",
    "            if factors[0].split('_')[0] == factors[1].split('_')[0]:\n",
    "                print(f'Removing {col}', end = '--')\n",
    "                dropped += 1\n",
    "                X.drop(col, axis = 1, inplace = True)\n",
    "                \n",
    "        else:\n",
    "            if '^' in col:\n",
    "                print(f'Removing {col}', end = '--')\n",
    "                dropped += 1\n",
    "                X.drop(col, axis = 1, inplace = True)"
   ]
  },
  {
   "cell_type": "code",
   "execution_count": 10,
   "id": "844ceae4-7305-4041-90ad-a4847f59c0c0",
   "metadata": {},
   "outputs": [
    {
     "data": {
      "text/plain": [
       "34"
      ]
     },
     "execution_count": 10,
     "metadata": {},
     "output_type": "execute_result"
    }
   ],
   "source": [
    "dropped"
   ]
  },
  {
   "cell_type": "code",
   "execution_count": 11,
   "id": "1cc807ef-909b-4428-8cba-8b5391fa418d",
   "metadata": {},
   "outputs": [
    {
     "data": {
      "text/plain": [
       "Index(['1', 'sqft_lot', 'waterfront', 'grade', 'sqft_above', 'sqft_basement',\n",
       "       'yr_built', 'yr_renovated', 'lat', 'long',\n",
       "       ...\n",
       "       'years_since_new_man_sq^2', 'years_since_new_man_sq long_man_sq',\n",
       "       'years_since_new_man_sq sqft_lot_man_sq',\n",
       "       'years_since_new_man_sq median_prce_comfort_index_man_x',\n",
       "       'long_man_sq^2', 'long_man_sq sqft_lot_man_sq',\n",
       "       'long_man_sq median_prce_comfort_index_man_x', 'sqft_lot_man_sq^2',\n",
       "       'sqft_lot_man_sq median_prce_comfort_index_man_x',\n",
       "       'median_prce_comfort_index_man_x^2'],\n",
       "      dtype='object', length=1191)"
      ]
     },
     "execution_count": 11,
     "metadata": {},
     "output_type": "execute_result"
    }
   ],
   "source": [
    "X.columns"
   ]
  },
  {
   "cell_type": "code",
   "execution_count": 12,
   "id": "3201102b-2e5f-42bf-85a5-28b0a0931ee2",
   "metadata": {},
   "outputs": [],
   "source": [
    "dropped = 0\n",
    "for col in X.columns:\n",
    "    if X[col].nunique() == 1:\n",
    "        X.drop(col, axis = 1, inplace = True)\n",
    "        dropped+=1"
   ]
  },
  {
   "cell_type": "code",
   "execution_count": 13,
   "id": "ad0312fc-90be-489b-ab5b-c2693ee4e697",
   "metadata": {},
   "outputs": [
    {
     "data": {
      "text/plain": [
       "11"
      ]
     },
     "execution_count": 13,
     "metadata": {},
     "output_type": "execute_result"
    }
   ],
   "source": [
    "dropped"
   ]
  },
  {
   "cell_type": "code",
   "execution_count": 14,
   "id": "13cfad3d-1e7e-4ba0-a133-19b32bcb04a6",
   "metadata": {},
   "outputs": [
    {
     "data": {
      "text/plain": [
       "Index(['sqft_lot', 'waterfront', 'grade', 'sqft_above', 'sqft_basement',\n",
       "       'yr_built', 'yr_renovated', 'lat', 'long', 'sqft_living15',\n",
       "       ...\n",
       "       'years_since_new_man_sq^2', 'years_since_new_man_sq long_man_sq',\n",
       "       'years_since_new_man_sq sqft_lot_man_sq',\n",
       "       'years_since_new_man_sq median_prce_comfort_index_man_x',\n",
       "       'long_man_sq^2', 'long_man_sq sqft_lot_man_sq',\n",
       "       'long_man_sq median_prce_comfort_index_man_x', 'sqft_lot_man_sq^2',\n",
       "       'sqft_lot_man_sq median_prce_comfort_index_man_x',\n",
       "       'median_prce_comfort_index_man_x^2'],\n",
       "      dtype='object', length=1180)"
      ]
     },
     "execution_count": 14,
     "metadata": {},
     "output_type": "execute_result"
    }
   ],
   "source": [
    "X.columns"
   ]
  },
  {
   "cell_type": "code",
   "execution_count": 15,
   "id": "14190ede-e9e1-4ff2-a4d0-5ac27236e244",
   "metadata": {},
   "outputs": [],
   "source": [
    "folds = KFold(n_splits = 5, shuffle = True)\n",
    "from sklearn.metrics import r2_score, mean_squared_error\n",
    "rmse = lambda y, yhat: mean_squared_error(y, yhat, squared = False)\n",
    "def five_fold(X, y, say = False):\n",
    "    if say:\n",
    "        print('KFOLDS')\n",
    "    trains = []\n",
    "    tests = []\n",
    "    count = 0\n",
    "    for tr_ind, te_ind in folds.split(X):\n",
    "        X_train, X_test = X.iloc[tr_ind], X.iloc[te_ind]\n",
    "        y_train, y_test = y.iloc[tr_ind], y.iloc[te_ind]\n",
    "        if len(np.array(X_train).shape) != 1:\n",
    "            linreg.fit(X_train, y_train)\n",
    "            trains.append(linreg.score(X_train, y_train))\n",
    "            tests.append(linreg.score(X_test, y_test))\n",
    "        else:\n",
    "            X_train = np.array(X_train).reshape(-1,1)\n",
    "            X_test = np.array(X_test).reshape(-1,1)\n",
    "            linreg.fit(X_train, y_train)\n",
    "            trains.append(linreg.score(X_train, y_train))\n",
    "            tests.append(linreg.score(X_test, y_test))\n",
    "        count +=1\n",
    "\n",
    "    return sum(trains)/5, sum(tests)/5\n",
    "\n",
    "def five_fold_rmse(X, y, say = False):\n",
    "    if say:\n",
    "        print('KFOLDS')\n",
    "    trains = []\n",
    "    tests = []\n",
    "    count = 0\n",
    "    for tr_ind, te_ind in folds.split(X):\n",
    "        X_train, X_test = X.iloc[tr_ind], X.iloc[te_ind]\n",
    "        y_train, y_test = y.iloc[tr_ind], y.iloc[te_ind]\n",
    "        if len(np.array(X_train).shape) != 1:\n",
    "            linreg.fit(X_train, y_train)\n",
    "            trains.append(rmse(np.exp(linreg.predict(X_train)), np.exp(y_train)))\n",
    "            tests.append(rmse(np.exp(linreg.predict(X_test)), np.exp(y_test)))\n",
    "        else:\n",
    "            X_train = np.array(X_train).reshape(-1,1)\n",
    "            X_test = np.array(X_test).reshape(-1,1)\n",
    "            linreg.fit(X_train, y_train)\n",
    "            trains.append(rmse(np.exp(linreg.predict(X_train)), np.exp(y_train)))\n",
    "            tests.append(rmse(np.exp(linreg.predict(X_test)), np.exp(y_test)))\n",
    "        count +=1\n",
    "\n",
    "    return sum(trains)/5, sum(tests)/5\n",
    "\n",
    "def five_fold_rmse_logged(X, y, say = False):\n",
    "    if say:\n",
    "        print('KFOLDS')\n",
    "    trains = []\n",
    "    tests = []\n",
    "    count = 0\n",
    "    for tr_ind, te_ind in folds.split(X):\n",
    "        X_train, X_test = X.iloc[tr_ind], X.iloc[te_ind]\n",
    "        y_train, y_test = y.iloc[tr_ind], y.iloc[te_ind]\n",
    "        if len(np.array(X_train).shape) != 1:\n",
    "            linreg.fit(X_train, y_train)\n",
    "            trains.append(rmse(linreg.predict(X_train), y_train))\n",
    "            tests.append(rmse(linreg.predict(X_test), y_test))\n",
    "        else:\n",
    "            X_train = np.array(X_train).reshape(-1,1)\n",
    "            X_test = np.array(X_test).reshape(-1,1)\n",
    "            linreg.fit(X_train, y_train)\n",
    "            trains.append(rmse(linreg.predict(X_train), y_train))\n",
    "            tests.append(rmse(linreg.predict(X_test), y_test))\n",
    "        count +=1\n",
    "\n",
    "    return sum(trains)/5, sum(tests)/5"
   ]
  },
  {
   "cell_type": "code",
   "execution_count": 16,
   "id": "8144263f-985d-4826-a507-90aa031609f4",
   "metadata": {},
   "outputs": [],
   "source": [
    "import copy\n",
    "def find_best(X, y, initial):\n",
    "    while 1:\n",
    "        changed = 0\n",
    "        if len(initial) != 0:\n",
    "            init_train, init_test = five_fold(X[initial], y)\n",
    "        else:\n",
    "            init_train, init_test = 0, 0\n",
    "        print(initial)\n",
    "        addition = 0\n",
    "        added = ''\n",
    "        for col in X.drop(initial, axis = 1).columns:\n",
    "            new = copy.copy(initial)\n",
    "            new.append(col)\n",
    "            train_sc, test_sc = five_fold(X[new], y)\n",
    "            if (test_sc > addition) and (test_sc > init_test) and (abs(test_sc - train_sc) < 0.07):\n",
    "                addition = test_sc\n",
    "                added = col\n",
    "        if addition != 0:\n",
    "            changed = 1\n",
    "            initial.append(added)\n",
    "            print(f'Added {added} with score {addition}')\n",
    "        \n",
    "        if len(initial) != 0:\n",
    "            init_train, init_test = five_fold(X[initial], y)\n",
    "        else:\n",
    "            init_train, init_test = 0, 0\n",
    "        print(initial)\n",
    "        removal = 0\n",
    "        removed = ''\n",
    "        for col in initial:\n",
    "            new = copy.copy(initial)\n",
    "            new.remove(col)\n",
    "            if len(new) == 0:\n",
    "                break\n",
    "            train_sc, test_sc = five_fold(X[new], y)\n",
    "            if (test_sc > removal) and (test_sc > init_test) and (abs(test_sc - train_sc) < 0.07):\n",
    "                removal = test_sc\n",
    "                removed = col\n",
    "        if removal != 0:\n",
    "            changed = 1\n",
    "            initial.remove(removed)\n",
    "            print(f'Removed {removed} with score {removal}')\n",
    "        \n",
    "        if changed == 0:\n",
    "            break\n",
    "    print(initial)\n",
    "    \n",
    "def find_best_rmse(X, y, initial):\n",
    "    while 1:\n",
    "        changed = 0\n",
    "        if len(initial) != 0:\n",
    "            init_train, init_test = five_fold_rmse(X[initial], y)\n",
    "        else:\n",
    "            init_train, init_test = 10**20, 10**20\n",
    "        print(initial)\n",
    "        addition = 10**20\n",
    "        added = ''\n",
    "        for col in X.drop(initial, axis = 1).columns:\n",
    "            new = copy.copy(initial)\n",
    "            new.append(col)\n",
    "            train_sc, test_sc = five_fold_rmse(X[new], y)\n",
    "            if (test_sc < addition) and (test_sc < init_test):\n",
    "                addition = test_sc\n",
    "                added = col\n",
    "        if addition != 10**20:\n",
    "            changed = 1\n",
    "            initial.append(added)\n",
    "            print(f'Added {added} with score {addition}')\n",
    "        \n",
    "        if len(initial) != 0:\n",
    "            init_train, init_test = five_fold_rmse(X[initial], y)\n",
    "        else:\n",
    "            init_train, init_test = 10**20, 10**20\n",
    "        print(initial)\n",
    "        removal = 10**20\n",
    "        removed = ''\n",
    "        for col in initial:\n",
    "            new = copy.copy(initial)\n",
    "            new.remove(col)\n",
    "            if len(new) == 0:\n",
    "                break\n",
    "            train_sc, test_sc = five_fold_rmse(X[new], y)\n",
    "            if (test_sc < removal) and (test_sc < init_test):\n",
    "                removal = test_sc\n",
    "                removed = col\n",
    "        if removal != 10**20:\n",
    "            changed = 1\n",
    "            initial.remove(removed)\n",
    "            print(f'Removed {removed} with score {removal}')\n",
    "        \n",
    "        if changed == 0:\n",
    "            break\n",
    "    print(initial)\n",
    "    \n",
    "def find_best_rmse_logged(X, y, initial):\n",
    "    while 1:\n",
    "        changed = 0\n",
    "        if len(initial) != 0:\n",
    "            init_train, init_test = five_fold_rmse_logged(X[initial], y)\n",
    "        else:\n",
    "            init_train, init_test = 1,1\n",
    "        print(initial)\n",
    "        addition = 1\n",
    "        added = ''\n",
    "        for col in X.drop(initial, axis = 1).columns:\n",
    "            new = copy.copy(initial)\n",
    "            new.append(col)\n",
    "            train_sc, test_sc = five_fold_rmse_logged(X[new], y)\n",
    "            if (test_sc < addition) and (test_sc < init_test):\n",
    "                addition = test_sc\n",
    "                added = col\n",
    "        if addition != 1:\n",
    "            changed = 1\n",
    "            initial.append(added)\n",
    "            print(f'Added {added} with score {addition}')\n",
    "        \n",
    "        if len(initial) != 0:\n",
    "            init_train, init_test = five_fold_rmse_logged(X[initial], y)\n",
    "        else:\n",
    "            init_train, init_test = 1,1\n",
    "        print(initial)\n",
    "        removal = 1\n",
    "        removed = ''\n",
    "        for col in initial:\n",
    "            new = copy.copy(initial)\n",
    "            new.remove(col)\n",
    "            if len(new) == 0:\n",
    "                break\n",
    "            train_sc, test_sc = five_fold_rmse_logged(X[new], y)\n",
    "            if (test_sc < removal) and (test_sc < init_test):\n",
    "                removal = test_sc\n",
    "                removed = col\n",
    "        if removal != 1:\n",
    "            changed = 1\n",
    "            initial.remove(removed)\n",
    "            print(f'Removed {removed} with score {removal}')\n",
    "        \n",
    "        if changed == 0:\n",
    "            break\n",
    "    print(initial)"
   ]
  },
  {
   "cell_type": "code",
   "execution_count": 17,
   "id": "0ec07170-d5e0-4534-8ecc-0a75e2fccdf5",
   "metadata": {},
   "outputs": [
    {
     "data": {
      "text/plain": [
       "Index(['id', 'date', 'price', 'sqft_lot', 'waterfront', 'grade', 'sqft_above',\n",
       "       'sqft_basement', 'yr_built', 'yr_renovated', 'zipcode', 'lat', 'long',\n",
       "       'sqft_living15', 'sqft_lot15', 'datefloat', 'renovated', 'bath_per_bed',\n",
       "       'skinniness', 'dist', 'unemployment', 'median_age', 'median_income',\n",
       "       'median_prce', 'comfort_index', 'seasonal', 'act_prce',\n",
       "       'years_since_new', 'log_sqft_living', 'elevation', 'winter', 'spring',\n",
       "       'summer', 'fall', 'condition_awful', 'condition_avg', 'condition_good',\n",
       "       'view_none', 'view_avg', 'view_good', 'floors_low', 'floors_norm',\n",
       "       'floors_many', 'bedrooms_few', 'bedrooms_norm', 'bedrooms_many',\n",
       "       'bathrooms_few', 'bathrooms_norm', 'bathrooms_many',\n",
       "       'median_prce_man_sq', 'years_since_new_man_sq', 'long_man_sq',\n",
       "       'sqft_lot_man_sq', 'median_prce_comfort_index_man_x'],\n",
       "      dtype='object')"
      ]
     },
     "execution_count": 17,
     "metadata": {},
     "output_type": "execute_result"
    }
   ],
   "source": [
    "data.columns"
   ]
  },
  {
   "cell_type": "code",
   "execution_count": 18,
   "id": "67c1fb71-ddbd-4b3f-9082-3447cfe66475",
   "metadata": {},
   "outputs": [],
   "source": [
    "r2_inits = ['grade', 'log_sqft_living', 'median_prce comfort_index', 'median_prce^2', 'years_since_new^2', 'waterfront log_sqft_living', 'yr_built', 'sqft_lot unemployment', 'sqft_living15 bath_per_bed', 'grade long', 'yr_renovated comfort_index', 'log_sqft_living floors_low', 'yr_built long', 'condition_awful bathrooms_few', 'median_age', 'median_age comfort_index', 'yr_built years_since_new_man_sq', 'yr_renovated floors_low', 'median_income^2', 'median_income median_prce', 'dist median_prce_man_sq', 'long_man_sq median_prce_comfort_index_man_x', 'sqft_living15 floors_low', 'unemployment years_since_new_man_sq', 'long long_man_sq', 'dist^2', 'median_prce long_man_sq', 'comfort_index years_since_new', 'comfort_index', 'long median_prce_comfort_index_man_x', 'dist view_none', 'lat dist', 'dist long_man_sq', 'view_none', 'sqft_basement log_sqft_living', 'unemployment winter', 'grade log_sqft_living', 'long median_prce', 'floors_many', 'waterfront dist', 'waterfront elevation', 'seasonal winter', 'winter condition_awful', 'condition_avg median_prce_comfort_index_man_x', 'lat long_man_sq', 'log_sqft_living sqft_lot_man_sq', 'elevation view_good', 'unemployment view_good', 'long dist', 'median_prce condition_avg', 'median_prce elevation', 'yr_renovated log_sqft_living', 'median_prce', 'long^2', 'grade bathrooms_norm', 'median_age condition_good', 'spring sqft_lot_man_sq', 'view_none median_prce_comfort_index_man_x', 'seasonal sqft_lot_man_sq', 'dist median_income', 'winter condition_avg', 'waterfront median_prce', 'sqft_basement bedrooms_norm', 'renovated skinniness', 'yr_renovated fall', 'dist floors_low', 'sqft_living15 floors_many', 'view_avg median_prce_comfort_index_man_x', 'median_age log_sqft_living', 'log_sqft_living bathrooms_few', 'long years_since_new', 'renovated floors_low']"
   ]
  },
  {
   "cell_type": "code",
   "execution_count": 19,
   "id": "1d71e029-545d-47de-bd77-c188f031e729",
   "metadata": {},
   "outputs": [
    {
     "name": "stdout",
     "output_type": "stream",
     "text": [
      "[]\n",
      "Added grade median_prce with score 0.3312521105522426\n",
      "['grade median_prce']\n",
      "['grade median_prce']\n",
      "Added comfort_index log_sqft_living with score 0.2620071544420772\n",
      "['grade median_prce', 'comfort_index log_sqft_living']\n",
      "['grade median_prce', 'comfort_index log_sqft_living']\n",
      "Added grade median_prce_man_sq with score 0.23514983415965673\n",
      "['grade median_prce', 'comfort_index log_sqft_living', 'grade median_prce_man_sq']\n",
      "['grade median_prce', 'comfort_index log_sqft_living', 'grade median_prce_man_sq']\n",
      "Added unemployment view_none with score 0.22324949833094365\n",
      "['grade median_prce', 'comfort_index log_sqft_living', 'grade median_prce_man_sq', 'unemployment view_none']\n",
      "['grade median_prce', 'comfort_index log_sqft_living', 'grade median_prce_man_sq', 'unemployment view_none']\n",
      "Added waterfront log_sqft_living with score 0.21950208379235966\n",
      "['grade median_prce', 'comfort_index log_sqft_living', 'grade median_prce_man_sq', 'unemployment view_none', 'waterfront log_sqft_living']\n",
      "['grade median_prce', 'comfort_index log_sqft_living', 'grade median_prce_man_sq', 'unemployment view_none', 'waterfront log_sqft_living']\n",
      "Added years_since_new_man_sq median_prce_comfort_index_man_x with score 0.21578223558854565\n",
      "['grade median_prce', 'comfort_index log_sqft_living', 'grade median_prce_man_sq', 'unemployment view_none', 'waterfront log_sqft_living', 'years_since_new_man_sq median_prce_comfort_index_man_x']\n",
      "['grade median_prce', 'comfort_index log_sqft_living', 'grade median_prce_man_sq', 'unemployment view_none', 'waterfront log_sqft_living', 'years_since_new_man_sq median_prce_comfort_index_man_x']\n",
      "Added sqft_above bath_per_bed with score 0.21069774194559443\n",
      "['grade median_prce', 'comfort_index log_sqft_living', 'grade median_prce_man_sq', 'unemployment view_none', 'waterfront log_sqft_living', 'years_since_new_man_sq median_prce_comfort_index_man_x', 'sqft_above bath_per_bed']\n",
      "['grade median_prce', 'comfort_index log_sqft_living', 'grade median_prce_man_sq', 'unemployment view_none', 'waterfront log_sqft_living', 'years_since_new_man_sq median_prce_comfort_index_man_x', 'sqft_above bath_per_bed']\n",
      "Added yr_renovated lat with score 0.208477682100373\n",
      "['grade median_prce', 'comfort_index log_sqft_living', 'grade median_prce_man_sq', 'unemployment view_none', 'waterfront log_sqft_living', 'years_since_new_man_sq median_prce_comfort_index_man_x', 'sqft_above bath_per_bed', 'yr_renovated lat']\n",
      "['grade median_prce', 'comfort_index log_sqft_living', 'grade median_prce_man_sq', 'unemployment view_none', 'waterfront log_sqft_living', 'years_since_new_man_sq median_prce_comfort_index_man_x', 'sqft_above bath_per_bed', 'yr_renovated lat']\n",
      "Added yr_built comfort_index with score 0.20609727430665908\n",
      "['grade median_prce', 'comfort_index log_sqft_living', 'grade median_prce_man_sq', 'unemployment view_none', 'waterfront log_sqft_living', 'years_since_new_man_sq median_prce_comfort_index_man_x', 'sqft_above bath_per_bed', 'yr_renovated lat', 'yr_built comfort_index']\n",
      "['grade median_prce', 'comfort_index log_sqft_living', 'grade median_prce_man_sq', 'unemployment view_none', 'waterfront log_sqft_living', 'years_since_new_man_sq median_prce_comfort_index_man_x', 'sqft_above bath_per_bed', 'yr_renovated lat', 'yr_built comfort_index']\n",
      "Added lat long_man_sq with score 0.20378695349282688\n",
      "['grade median_prce', 'comfort_index log_sqft_living', 'grade median_prce_man_sq', 'unemployment view_none', 'waterfront log_sqft_living', 'years_since_new_man_sq median_prce_comfort_index_man_x', 'sqft_above bath_per_bed', 'yr_renovated lat', 'yr_built comfort_index', 'lat long_man_sq']\n",
      "['grade median_prce', 'comfort_index log_sqft_living', 'grade median_prce_man_sq', 'unemployment view_none', 'waterfront log_sqft_living', 'years_since_new_man_sq median_prce_comfort_index_man_x', 'sqft_above bath_per_bed', 'yr_renovated lat', 'yr_built comfort_index', 'lat long_man_sq']\n",
      "Added sqft_lot unemployment with score 0.20183623730038353\n",
      "['grade median_prce', 'comfort_index log_sqft_living', 'grade median_prce_man_sq', 'unemployment view_none', 'waterfront log_sqft_living', 'years_since_new_man_sq median_prce_comfort_index_man_x', 'sqft_above bath_per_bed', 'yr_renovated lat', 'yr_built comfort_index', 'lat long_man_sq', 'sqft_lot unemployment']\n",
      "['grade median_prce', 'comfort_index log_sqft_living', 'grade median_prce_man_sq', 'unemployment view_none', 'waterfront log_sqft_living', 'years_since_new_man_sq median_prce_comfort_index_man_x', 'sqft_above bath_per_bed', 'yr_renovated lat', 'yr_built comfort_index', 'lat long_man_sq', 'sqft_lot unemployment']\n"
     ]
    },
    {
     "ename": "KeyboardInterrupt",
     "evalue": "",
     "output_type": "error",
     "traceback": [
      "\u001b[1;31m---------------------------------------------------------------------------\u001b[0m",
      "\u001b[1;31mKeyboardInterrupt\u001b[0m                         Traceback (most recent call last)",
      "\u001b[1;32m<ipython-input-19-6a6b26ebdbac>\u001b[0m in \u001b[0;36m<module>\u001b[1;34m\u001b[0m\n\u001b[0;32m      1\u001b[0m \u001b[0mrmse_inits\u001b[0m \u001b[1;33m=\u001b[0m \u001b[1;33m[\u001b[0m\u001b[1;34m'grade log_sqft_living'\u001b[0m\u001b[1;33m,\u001b[0m \u001b[1;34m'grade yr_built'\u001b[0m\u001b[1;33m,\u001b[0m \u001b[1;34m'dist unemployment'\u001b[0m\u001b[1;33m,\u001b[0m \u001b[1;34m'waterfront lat'\u001b[0m\u001b[1;33m,\u001b[0m \u001b[1;34m'dist median_prce'\u001b[0m\u001b[1;33m,\u001b[0m \u001b[1;34m'unemployment view_none'\u001b[0m\u001b[1;33m,\u001b[0m \u001b[1;34m'grade median_age'\u001b[0m\u001b[1;33m,\u001b[0m \u001b[1;34m'sqft_basement median_age'\u001b[0m\u001b[1;33m,\u001b[0m \u001b[1;34m'yr_built view_good'\u001b[0m\u001b[1;33m,\u001b[0m \u001b[1;34m'waterfront dist'\u001b[0m\u001b[1;33m,\u001b[0m \u001b[1;34m'sqft_living15 view_none'\u001b[0m\u001b[1;33m,\u001b[0m \u001b[1;34m'grade yr_renovated'\u001b[0m\u001b[1;33m,\u001b[0m \u001b[1;34m'long long_man_sq'\u001b[0m\u001b[1;33m,\u001b[0m \u001b[1;34m'sqft_basement floors_many'\u001b[0m\u001b[1;33m,\u001b[0m \u001b[1;34m'unemployment condition_good'\u001b[0m\u001b[1;33m,\u001b[0m \u001b[1;34m'grade long'\u001b[0m\u001b[1;33m,\u001b[0m \u001b[1;34m'grade long_man_sq'\u001b[0m\u001b[1;33m,\u001b[0m \u001b[1;34m'sqft_lot'\u001b[0m\u001b[1;33m,\u001b[0m \u001b[1;34m'grade years_since_new'\u001b[0m\u001b[1;33m,\u001b[0m \u001b[1;34m'long'\u001b[0m\u001b[1;33m,\u001b[0m \u001b[1;34m'median_prce bedrooms_norm'\u001b[0m\u001b[1;33m,\u001b[0m \u001b[1;34m'comfort_index sqft_lot_man_sq'\u001b[0m\u001b[1;33m,\u001b[0m \u001b[1;34m'yr_built bath_per_bed'\u001b[0m\u001b[1;33m,\u001b[0m \u001b[1;34m'dist log_sqft_living'\u001b[0m\u001b[1;33m,\u001b[0m \u001b[1;34m'dist median_prce_man_sq'\u001b[0m\u001b[1;33m,\u001b[0m \u001b[1;34m'long median_income'\u001b[0m\u001b[1;33m,\u001b[0m \u001b[1;34m'median_income'\u001b[0m\u001b[1;33m,\u001b[0m \u001b[1;34m'grade years_since_new_man_sq'\u001b[0m\u001b[1;33m,\u001b[0m \u001b[1;34m'bath_per_bed log_sqft_living'\u001b[0m\u001b[1;33m,\u001b[0m \u001b[1;34m'skinniness bathrooms_norm'\u001b[0m\u001b[1;33m,\u001b[0m \u001b[1;34m'waterfront median_prce_comfort_index_man_x'\u001b[0m\u001b[1;33m,\u001b[0m \u001b[1;34m'median_prce_comfort_index_man_x'\u001b[0m\u001b[1;33m,\u001b[0m \u001b[1;34m'years_since_new condition_good'\u001b[0m\u001b[1;33m,\u001b[0m \u001b[1;34m'long_man_sq median_prce_comfort_index_man_x'\u001b[0m\u001b[1;33m,\u001b[0m \u001b[1;34m'bath_per_bed median_prce_comfort_index_man_x'\u001b[0m\u001b[1;33m,\u001b[0m \u001b[1;34m'lat median_income'\u001b[0m\u001b[1;33m]\u001b[0m\u001b[1;33m\u001b[0m\u001b[1;33m\u001b[0m\u001b[0m\n\u001b[0;32m      2\u001b[0m \u001b[0mrmse_logged_inits\u001b[0m \u001b[1;33m=\u001b[0m \u001b[1;33m[\u001b[0m\u001b[1;33m]\u001b[0m\u001b[1;33m\u001b[0m\u001b[1;33m\u001b[0m\u001b[0m\n\u001b[1;32m----> 3\u001b[1;33m \u001b[0mfind_best_rmse_logged\u001b[0m\u001b[1;33m(\u001b[0m\u001b[0mX\u001b[0m\u001b[1;33m,\u001b[0m \u001b[0my\u001b[0m\u001b[1;33m,\u001b[0m \u001b[0mrmse_logged_inits\u001b[0m\u001b[1;33m)\u001b[0m\u001b[1;33m\u001b[0m\u001b[1;33m\u001b[0m\u001b[0m\n\u001b[0m",
      "\u001b[1;32m<ipython-input-16-a5629baa72ad>\u001b[0m in \u001b[0;36mfind_best_rmse_logged\u001b[1;34m(X, y, initial)\u001b[0m\n\u001b[0;32m    107\u001b[0m             \u001b[0mnew\u001b[0m \u001b[1;33m=\u001b[0m \u001b[0mcopy\u001b[0m\u001b[1;33m.\u001b[0m\u001b[0mcopy\u001b[0m\u001b[1;33m(\u001b[0m\u001b[0minitial\u001b[0m\u001b[1;33m)\u001b[0m\u001b[1;33m\u001b[0m\u001b[1;33m\u001b[0m\u001b[0m\n\u001b[0;32m    108\u001b[0m             \u001b[0mnew\u001b[0m\u001b[1;33m.\u001b[0m\u001b[0mappend\u001b[0m\u001b[1;33m(\u001b[0m\u001b[0mcol\u001b[0m\u001b[1;33m)\u001b[0m\u001b[1;33m\u001b[0m\u001b[1;33m\u001b[0m\u001b[0m\n\u001b[1;32m--> 109\u001b[1;33m             \u001b[0mtrain_sc\u001b[0m\u001b[1;33m,\u001b[0m \u001b[0mtest_sc\u001b[0m \u001b[1;33m=\u001b[0m \u001b[0mfive_fold_rmse_logged\u001b[0m\u001b[1;33m(\u001b[0m\u001b[0mX\u001b[0m\u001b[1;33m[\u001b[0m\u001b[0mnew\u001b[0m\u001b[1;33m]\u001b[0m\u001b[1;33m,\u001b[0m \u001b[0my\u001b[0m\u001b[1;33m)\u001b[0m\u001b[1;33m\u001b[0m\u001b[1;33m\u001b[0m\u001b[0m\n\u001b[0m\u001b[0;32m    110\u001b[0m             \u001b[1;32mif\u001b[0m \u001b[1;33m(\u001b[0m\u001b[0mtest_sc\u001b[0m \u001b[1;33m<\u001b[0m \u001b[0maddition\u001b[0m\u001b[1;33m)\u001b[0m \u001b[1;32mand\u001b[0m \u001b[1;33m(\u001b[0m\u001b[0mtest_sc\u001b[0m \u001b[1;33m<\u001b[0m \u001b[0minit_test\u001b[0m\u001b[1;33m)\u001b[0m\u001b[1;33m:\u001b[0m\u001b[1;33m\u001b[0m\u001b[1;33m\u001b[0m\u001b[0m\n\u001b[0;32m    111\u001b[0m                 \u001b[0maddition\u001b[0m \u001b[1;33m=\u001b[0m \u001b[0mtest_sc\u001b[0m\u001b[1;33m\u001b[0m\u001b[1;33m\u001b[0m\u001b[0m\n",
      "\u001b[1;32m<ipython-input-15-43218892862c>\u001b[0m in \u001b[0;36mfive_fold_rmse_logged\u001b[1;34m(X, y, say)\u001b[0m\n\u001b[0;32m     59\u001b[0m         \u001b[1;32mif\u001b[0m \u001b[0mlen\u001b[0m\u001b[1;33m(\u001b[0m\u001b[0mnp\u001b[0m\u001b[1;33m.\u001b[0m\u001b[0marray\u001b[0m\u001b[1;33m(\u001b[0m\u001b[0mX_train\u001b[0m\u001b[1;33m)\u001b[0m\u001b[1;33m.\u001b[0m\u001b[0mshape\u001b[0m\u001b[1;33m)\u001b[0m \u001b[1;33m!=\u001b[0m \u001b[1;36m1\u001b[0m\u001b[1;33m:\u001b[0m\u001b[1;33m\u001b[0m\u001b[1;33m\u001b[0m\u001b[0m\n\u001b[0;32m     60\u001b[0m             \u001b[0mlinreg\u001b[0m\u001b[1;33m.\u001b[0m\u001b[0mfit\u001b[0m\u001b[1;33m(\u001b[0m\u001b[0mX_train\u001b[0m\u001b[1;33m,\u001b[0m \u001b[0my_train\u001b[0m\u001b[1;33m)\u001b[0m\u001b[1;33m\u001b[0m\u001b[1;33m\u001b[0m\u001b[0m\n\u001b[1;32m---> 61\u001b[1;33m             \u001b[0mtrains\u001b[0m\u001b[1;33m.\u001b[0m\u001b[0mappend\u001b[0m\u001b[1;33m(\u001b[0m\u001b[0mrmse\u001b[0m\u001b[1;33m(\u001b[0m\u001b[0mlinreg\u001b[0m\u001b[1;33m.\u001b[0m\u001b[0mpredict\u001b[0m\u001b[1;33m(\u001b[0m\u001b[0mX_train\u001b[0m\u001b[1;33m)\u001b[0m\u001b[1;33m,\u001b[0m \u001b[0my_train\u001b[0m\u001b[1;33m)\u001b[0m\u001b[1;33m)\u001b[0m\u001b[1;33m\u001b[0m\u001b[1;33m\u001b[0m\u001b[0m\n\u001b[0m\u001b[0;32m     62\u001b[0m             \u001b[0mtests\u001b[0m\u001b[1;33m.\u001b[0m\u001b[0mappend\u001b[0m\u001b[1;33m(\u001b[0m\u001b[0mrmse\u001b[0m\u001b[1;33m(\u001b[0m\u001b[0mlinreg\u001b[0m\u001b[1;33m.\u001b[0m\u001b[0mpredict\u001b[0m\u001b[1;33m(\u001b[0m\u001b[0mX_test\u001b[0m\u001b[1;33m)\u001b[0m\u001b[1;33m,\u001b[0m \u001b[0my_test\u001b[0m\u001b[1;33m)\u001b[0m\u001b[1;33m)\u001b[0m\u001b[1;33m\u001b[0m\u001b[1;33m\u001b[0m\u001b[0m\n\u001b[0;32m     63\u001b[0m         \u001b[1;32melse\u001b[0m\u001b[1;33m:\u001b[0m\u001b[1;33m\u001b[0m\u001b[1;33m\u001b[0m\u001b[0m\n",
      "\u001b[1;32m~\\anaconda3\\envs\\learn-env\\lib\\site-packages\\sklearn\\linear_model\\_base.py\u001b[0m in \u001b[0;36mpredict\u001b[1;34m(self, X)\u001b[0m\n\u001b[0;32m    234\u001b[0m             \u001b[0mReturns\u001b[0m \u001b[0mpredicted\u001b[0m \u001b[0mvalues\u001b[0m\u001b[1;33m.\u001b[0m\u001b[1;33m\u001b[0m\u001b[1;33m\u001b[0m\u001b[0m\n\u001b[0;32m    235\u001b[0m         \"\"\"\n\u001b[1;32m--> 236\u001b[1;33m         \u001b[1;32mreturn\u001b[0m \u001b[0mself\u001b[0m\u001b[1;33m.\u001b[0m\u001b[0m_decision_function\u001b[0m\u001b[1;33m(\u001b[0m\u001b[0mX\u001b[0m\u001b[1;33m)\u001b[0m\u001b[1;33m\u001b[0m\u001b[1;33m\u001b[0m\u001b[0m\n\u001b[0m\u001b[0;32m    237\u001b[0m \u001b[1;33m\u001b[0m\u001b[0m\n\u001b[0;32m    238\u001b[0m     \u001b[0m_preprocess_data\u001b[0m \u001b[1;33m=\u001b[0m \u001b[0mstaticmethod\u001b[0m\u001b[1;33m(\u001b[0m\u001b[0m_preprocess_data\u001b[0m\u001b[1;33m)\u001b[0m\u001b[1;33m\u001b[0m\u001b[1;33m\u001b[0m\u001b[0m\n",
      "\u001b[1;32m~\\anaconda3\\envs\\learn-env\\lib\\site-packages\\sklearn\\linear_model\\_base.py\u001b[0m in \u001b[0;36m_decision_function\u001b[1;34m(self, X)\u001b[0m\n\u001b[0;32m    217\u001b[0m \u001b[1;33m\u001b[0m\u001b[0m\n\u001b[0;32m    218\u001b[0m         \u001b[0mX\u001b[0m \u001b[1;33m=\u001b[0m \u001b[0mcheck_array\u001b[0m\u001b[1;33m(\u001b[0m\u001b[0mX\u001b[0m\u001b[1;33m,\u001b[0m \u001b[0maccept_sparse\u001b[0m\u001b[1;33m=\u001b[0m\u001b[1;33m[\u001b[0m\u001b[1;34m'csr'\u001b[0m\u001b[1;33m,\u001b[0m \u001b[1;34m'csc'\u001b[0m\u001b[1;33m,\u001b[0m \u001b[1;34m'coo'\u001b[0m\u001b[1;33m]\u001b[0m\u001b[1;33m)\u001b[0m\u001b[1;33m\u001b[0m\u001b[1;33m\u001b[0m\u001b[0m\n\u001b[1;32m--> 219\u001b[1;33m         return safe_sparse_dot(X, self.coef_.T,\n\u001b[0m\u001b[0;32m    220\u001b[0m                                dense_output=True) + self.intercept_\n\u001b[0;32m    221\u001b[0m \u001b[1;33m\u001b[0m\u001b[0m\n",
      "\u001b[1;32m~\\anaconda3\\envs\\learn-env\\lib\\site-packages\\sklearn\\utils\\validation.py\u001b[0m in \u001b[0;36minner_f\u001b[1;34m(*args, **kwargs)\u001b[0m\n\u001b[0;32m     70\u001b[0m                           FutureWarning)\n\u001b[0;32m     71\u001b[0m         \u001b[0mkwargs\u001b[0m\u001b[1;33m.\u001b[0m\u001b[0mupdate\u001b[0m\u001b[1;33m(\u001b[0m\u001b[1;33m{\u001b[0m\u001b[0mk\u001b[0m\u001b[1;33m:\u001b[0m \u001b[0marg\u001b[0m \u001b[1;32mfor\u001b[0m \u001b[0mk\u001b[0m\u001b[1;33m,\u001b[0m \u001b[0marg\u001b[0m \u001b[1;32min\u001b[0m \u001b[0mzip\u001b[0m\u001b[1;33m(\u001b[0m\u001b[0msig\u001b[0m\u001b[1;33m.\u001b[0m\u001b[0mparameters\u001b[0m\u001b[1;33m,\u001b[0m \u001b[0margs\u001b[0m\u001b[1;33m)\u001b[0m\u001b[1;33m}\u001b[0m\u001b[1;33m)\u001b[0m\u001b[1;33m\u001b[0m\u001b[1;33m\u001b[0m\u001b[0m\n\u001b[1;32m---> 72\u001b[1;33m         \u001b[1;32mreturn\u001b[0m \u001b[0mf\u001b[0m\u001b[1;33m(\u001b[0m\u001b[1;33m**\u001b[0m\u001b[0mkwargs\u001b[0m\u001b[1;33m)\u001b[0m\u001b[1;33m\u001b[0m\u001b[1;33m\u001b[0m\u001b[0m\n\u001b[0m\u001b[0;32m     73\u001b[0m     \u001b[1;32mreturn\u001b[0m \u001b[0minner_f\u001b[0m\u001b[1;33m\u001b[0m\u001b[1;33m\u001b[0m\u001b[0m\n\u001b[0;32m     74\u001b[0m \u001b[1;33m\u001b[0m\u001b[0m\n",
      "\u001b[1;32m~\\anaconda3\\envs\\learn-env\\lib\\site-packages\\sklearn\\utils\\extmath.py\u001b[0m in \u001b[0;36msafe_sparse_dot\u001b[1;34m(a, b, dense_output)\u001b[0m\n\u001b[0;32m    151\u001b[0m             \u001b[0mret\u001b[0m \u001b[1;33m=\u001b[0m \u001b[0mnp\u001b[0m\u001b[1;33m.\u001b[0m\u001b[0mdot\u001b[0m\u001b[1;33m(\u001b[0m\u001b[0ma\u001b[0m\u001b[1;33m,\u001b[0m \u001b[0mb\u001b[0m\u001b[1;33m)\u001b[0m\u001b[1;33m\u001b[0m\u001b[1;33m\u001b[0m\u001b[0m\n\u001b[0;32m    152\u001b[0m     \u001b[1;32melse\u001b[0m\u001b[1;33m:\u001b[0m\u001b[1;33m\u001b[0m\u001b[1;33m\u001b[0m\u001b[0m\n\u001b[1;32m--> 153\u001b[1;33m         \u001b[0mret\u001b[0m \u001b[1;33m=\u001b[0m \u001b[0ma\u001b[0m \u001b[1;33m@\u001b[0m \u001b[0mb\u001b[0m\u001b[1;33m\u001b[0m\u001b[1;33m\u001b[0m\u001b[0m\n\u001b[0m\u001b[0;32m    154\u001b[0m \u001b[1;33m\u001b[0m\u001b[0m\n\u001b[0;32m    155\u001b[0m     if (sparse.issparse(a) and sparse.issparse(b)\n",
      "\u001b[1;31mKeyboardInterrupt\u001b[0m: "
     ]
    }
   ],
   "source": [
    "rmse_inits = ['grade log_sqft_living', 'grade yr_built', 'dist unemployment', 'waterfront lat', 'dist median_prce', 'unemployment view_none', 'grade median_age', 'sqft_basement median_age', 'yr_built view_good', 'waterfront dist', 'sqft_living15 view_none', 'grade yr_renovated', 'long long_man_sq', 'sqft_basement floors_many', 'unemployment condition_good', 'grade long', 'grade long_man_sq', 'sqft_lot', 'grade years_since_new', 'long', 'median_prce bedrooms_norm', 'comfort_index sqft_lot_man_sq', 'yr_built bath_per_bed', 'dist log_sqft_living', 'dist median_prce_man_sq', 'long median_income', 'median_income', 'grade years_since_new_man_sq', 'bath_per_bed log_sqft_living', 'skinniness bathrooms_norm', 'waterfront median_prce_comfort_index_man_x', 'median_prce_comfort_index_man_x', 'years_since_new condition_good', 'long_man_sq median_prce_comfort_index_man_x', 'bath_per_bed median_prce_comfort_index_man_x', 'lat median_income']\n",
    "rmse_logged_inits = ['grade median_prce', 'comfort_index log_sqft_living', 'grade median_prce_man_sq', 'unemployment view_none', 'waterfront log_sqft_living', 'years_since_new_man_sq median_prce_comfort_index_man_x', 'sqft_above bath_per_bed', 'yr_renovated lat', 'yr_built comfort_index', 'lat long_man_sq', 'sqft_lot unemployment']\n",
    "find_best_rmse_logged(X, y, rmse_logged_inits)"
   ]
  },
  {
   "cell_type": "code",
   "execution_count": null,
   "id": "1b209869-6cc5-4c97-90a1-903e44d70c78",
   "metadata": {},
   "outputs": [],
   "source": [
    "scores = [(col, five_fold(X[col], y)[1]) for col in X.columns]"
   ]
  },
  {
   "cell_type": "code",
   "execution_count": null,
   "id": "68d39eae-cbd6-405a-bdd8-b89c23525a12",
   "metadata": {},
   "outputs": [],
   "source": [
    "scores = pd.Series(index = [score[0] for score in scores], data = [score[1] for score in scores])"
   ]
  },
  {
   "cell_type": "code",
   "execution_count": null,
   "id": "1e6723f3-4eb8-4f68-94a3-8ddc1d3b3259",
   "metadata": {
    "tags": []
   },
   "outputs": [],
   "source": [
    "scores.sort_values(ascending = False, inplace = True)"
   ]
  },
  {
   "cell_type": "code",
   "execution_count": 28,
   "id": "4c95d331-2fe9-44d8-b3ec-a4d718edbdc0",
   "metadata": {},
   "outputs": [
    {
     "data": {
      "text/plain": [
       "(0.8753210924244265, 0.18596170946030297)"
      ]
     },
     "execution_count": 28,
     "metadata": {},
     "output_type": "execute_result"
    }
   ],
   "source": [
    "from sklearn.metrics import r2_score, mean_squared_error\n",
    "linreg = LinearRegression()\n",
    "linreg.fit(X[rmse_inits], y)\n",
    "yhat = linreg.predict(X[rmse_inits])\n",
    "r2_score(y, yhat), rmse(y, yhat)"
   ]
  },
  {
   "cell_type": "code",
   "execution_count": 29,
   "id": "94fd1328-70fd-4515-bf1c-096039a65c46",
   "metadata": {},
   "outputs": [
    {
     "data": {
      "text/plain": [
       "(0.17374493041351996, 0.1747979251149448)"
      ]
     },
     "execution_count": 29,
     "metadata": {},
     "output_type": "execute_result"
    }
   ],
   "source": [
    "five_fold_rmse_logged(X[r2_inits], y)"
   ]
  },
  {
   "cell_type": "code",
   "execution_count": 30,
   "id": "96c313b1-5eef-4c5d-9569-f84614162c33",
   "metadata": {},
   "outputs": [
    {
     "data": {
      "text/plain": [
       "<AxesSubplot:ylabel='price'>"
      ]
     },
     "execution_count": 30,
     "metadata": {},
     "output_type": "execute_result"
    },
    {
     "data": {
      "image/png": "[encoded data removed]",
      "text/plain": [
       "<Figure size 432x288 with 1 Axes>"
      ]
     },
     "metadata": {
      "needs_background": "light"
     },
     "output_type": "display_data"
    }
   ],
   "source": [
    "sns.scatterplot(x=yhat, y=y, alpha = 0.1)"
   ]
  },
  {
   "cell_type": "code",
   "execution_count": 31,
   "id": "3b9c19f1-4ac7-43e1-aa76-7cf79e94842a",
   "metadata": {},
   "outputs": [
    {
     "data": {
      "text/plain": [
       "<AxesSubplot:ylabel='price'>"
      ]
     },
     "execution_count": 31,
     "metadata": {},
     "output_type": "execute_result"
    },
    {
     "data": {
      "image/png": "[encoded data removed]",
      "text/plain": [
       "<Figure size 432x288 with 1 Axes>"
      ]
     },
     "metadata": {
      "needs_background": "light"
     },
     "output_type": "display_data"
    }
   ],
   "source": [
    "sns.scatterplot(x=np.exp(yhat), y=np.exp(y), alpha = 0.1)"
   ]
  }
 ],
 "metadata": {
  "kernelspec": {
   "display_name": "learn-env",
   "language": "python",
   "name": "learn-env"
  },
  "language_info": {
   "codemirror_mode": {
    "name": "ipython",
    "version": 3
   },
   "file_extension": ".py",
   "mimetype": "text/x-python",
   "name": "python",
   "nbconvert_exporter": "python",
   "pygments_lexer": "ipython3",
   "version": "3.8.5"
  }
 },
 "nbformat": 4,
 "nbformat_minor": 5
}
