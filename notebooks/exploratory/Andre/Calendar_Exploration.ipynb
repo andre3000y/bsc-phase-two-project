{
 "cells": [
  {
   "cell_type": "code",
   "execution_count": 1,
   "id": "4652293e-26aa-4cf6-bf31-9a1f07e37421",
   "metadata": {},
   "outputs": [],
   "source": [
    "import pandas as pd\n",
    "import pickle\n",
    "import matplotlib.pyplot as plt\n",
    "import seaborn as sns\n",
    "import numpy as np\n",
    "import datetime\n",
    "import matplotlib.dates as dates"
   ]
  },
  {
   "cell_type": "code",
   "execution_count": 2,
   "id": "76d3eca3-0142-4ac6-ba76-c66bc20d15e1",
   "metadata": {},
   "outputs": [],
   "source": [
    "data = pd.read_csv('../../../data/kc_house_data_update2.csv')"
   ]
  },
  {
   "cell_type": "code",
   "execution_count": 3,
   "id": "3cdc3b86-091f-41d9-ad61-e16bd06b4e0e",
   "metadata": {},
   "outputs": [
    {
     "data": {
      "text/plain": [
       "<AxesSubplot:xlabel='month', ylabel='price'>"
      ]
     },
     "execution_count": 3,
     "metadata": {},
     "output_type": "execute_result"
    },
    {
     "data": {
      "image/png": "[encoded data removed]",
      "text/plain": [
       "<Figure size 432x288 with 1 Axes>"
      ]
     },
     "metadata": {
      "needs_background": "light"
     },
     "output_type": "display_data"
    }
   ],
   "source": [
    "data['month'] = data['date'].map(lambda x: int(x[:2]))\n",
    "calendar = data.groupby('month')['price'].mean()\n",
    "sns.scatterplot(data=calendar)"
   ]
  },
  {
   "cell_type": "code",
   "execution_count": 4,
   "id": "4940544c-18d5-432d-a338-2543d779b133",
   "metadata": {},
   "outputs": [
    {
     "data": {
      "text/plain": [
       "16205.0"
      ]
     },
     "execution_count": 4,
     "metadata": {},
     "output_type": "execute_result"
    }
   ],
   "source": [
    "dates.date2num(datetime.datetime.strptime('5/15/2014','%m/%d/%Y'))"
   ]
  },
  {
   "cell_type": "code",
   "execution_count": 5,
   "id": "a7895779-f9d7-45d0-b4ba-ee0e065896df",
   "metadata": {},
   "outputs": [
    {
     "data": {
      "text/plain": [
       "(16205, 16387.5, 16570)"
      ]
     },
     "execution_count": 5,
     "metadata": {},
     "output_type": "execute_result"
    }
   ],
   "source": [
    "16205, 16205+365/2, 16205+365"
   ]
  },
  {
   "cell_type": "code",
   "execution_count": 6,
   "id": "7845488f-9eb0-43cb-b7c5-966076a9d987",
   "metadata": {},
   "outputs": [],
   "source": [
    "data['seasonal'] = np.cos(2*np.pi*(data['datefloat']-16205)/365)"
   ]
  },
  {
   "cell_type": "code",
   "execution_count": 7,
   "id": "48c58eaa-6a0e-4837-bb56-0e143c8dbace",
   "metadata": {},
   "outputs": [],
   "source": [
    "data['month'] = data['date'].map(lambda x: int(x[:2]))\n",
    "months = pd.get_dummies(data['month'], prefix = 'month')\n",
    "data.drop('month', axis = 1, inplace = True)\n",
    "data = pd.concat([data, months], axis = 1)"
   ]
  },
  {
   "cell_type": "code",
   "execution_count": 8,
   "id": "581107f1-3566-4aad-a7f9-07b411c4950d",
   "metadata": {},
   "outputs": [],
   "source": [
    "data.to_csv(path_or_buf = '../../../data/kc_house_data_update3.csv', index = False)"
   ]
  }
 ],
 "metadata": {
  "kernelspec": {
   "display_name": "learn-env",
   "language": "python",
   "name": "learn-env"
  },
  "language_info": {
   "codemirror_mode": {
    "name": "ipython",
    "version": 3
   },
   "file_extension": ".py",
   "mimetype": "text/x-python",
   "name": "python",
   "nbconvert_exporter": "python",
   "pygments_lexer": "ipython3",
   "version": "3.8.5"
  }
 },
 "nbformat": 4,
 "nbformat_minor": 5
}
