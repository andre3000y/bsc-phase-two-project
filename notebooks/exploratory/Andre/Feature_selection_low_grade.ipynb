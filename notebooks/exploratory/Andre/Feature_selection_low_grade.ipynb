{
 "cells": [
  {
   "cell_type": "code",
   "execution_count": 1,
   "id": "aaf11072-25f8-41fe-bdd3-bfdc47205e52",
   "metadata": {},
   "outputs": [],
   "source": [
    "import pandas as pd\n",
    "import matplotlib.pyplot as plt\n",
    "import seaborn as sns\n",
    "import numpy as np\n",
    "import statsmodels.formula.api as smf\n",
    "import statsmodels.stats.api as sms\n",
    "from sklearn.preprocessing import PolynomialFeatures\n",
    "from sklearn.model_selection import KFold\n",
    "from sklearn.linear_model import LinearRegression"
   ]
  },
  {
   "cell_type": "code",
   "execution_count": 19,
   "id": "ba4b3fa7-0dda-4097-9a97-e82dca81d2fd",
   "metadata": {},
   "outputs": [],
   "source": [
    "data = pd.read_csv('../../../data/kc_house_data_binned.csv')"
   ]
  },
  {
   "cell_type": "code",
   "execution_count": 20,
   "id": "25799444-21d7-4f97-a051-8136e1e86dfb",
   "metadata": {},
   "outputs": [
    {
     "data": {
      "text/plain": [
       "<AxesSubplot:>"
      ]
     },
     "execution_count": 20,
     "metadata": {},
     "output_type": "execute_result"
    },
    {
     "data": {
      "image/png": "[encoded data removed]",
      "text/plain": [
       "<Figure size 432x288 with 1 Axes>"
      ]
     },
     "metadata": {
      "needs_background": "light"
     },
     "output_type": "display_data"
    }
   ],
   "source": [
    "data['grade'].hist()"
   ]
  },
  {
   "cell_type": "code",
   "execution_count": 3,
   "id": "5e8c97ab-21f6-4aaa-892b-df104a1f27d5",
   "metadata": {},
   "outputs": [],
   "source": [
    "data = data.loc[data['grade']<=6]"
   ]
  },
  {
   "cell_type": "code",
   "execution_count": 4,
   "id": "83461eeb-31e6-4a2f-ab8f-f8653d64c355",
   "metadata": {},
   "outputs": [],
   "source": [
    "to_square = ['median_prce','years_since_new','long','sqft_lot']\n",
    "for col in to_square:\n",
    "    data[col+'_man_sq'] = data[col]**2"
   ]
  },
  {
   "cell_type": "code",
   "execution_count": 5,
   "id": "514b3f12-a448-487a-b284-a4326fb5e46c",
   "metadata": {},
   "outputs": [],
   "source": [
    "data['median_prce_comfort_index_man_x'] = data['median_prce']*data['comfort_index']"
   ]
  },
  {
   "cell_type": "code",
   "execution_count": 6,
   "id": "baff41e5-a2f1-4219-8697-6ccdf74123a3",
   "metadata": {},
   "outputs": [],
   "source": [
    "def relevants(data):\n",
    "    rel = []\n",
    "    for col in data.columns:\n",
    "        if data[col].dtype != object:\n",
    "            rel.append(col)\n",
    "    return rel\n",
    "\n",
    "def graphs(data):\n",
    "    relevant = relevants(data.drop('price', axis = 1))\n",
    "    rowsplot = int(len(relevant)/2 + 1)\n",
    "\n",
    "    fig, axes = plt.subplots(nrows = rowsplot, ncols = 2, figsize=(20, 130))\n",
    "\n",
    "    for col, ax in zip(relevant, axes.flatten()):\n",
    "        sns.scatterplot(data = data, x = col, y = 'price', ax = ax)\n",
    "        ax.set_title(col, fontsize = 20)\n",
    "        \n",
    "def make_corrs(data, display = False):\n",
    "    corrs = data.corr().stack().reset_index()\n",
    "    corrs = corrs.loc[corrs['level_0'] != corrs['level_1']]\n",
    "    corrs['pair'] = corrs['level_0'] + ' '+ corrs['level_1']\n",
    "    corrs['pair'] = corrs['pair'].map(lambda x: ', '.join(sorted(x.split(' '))))\n",
    "    corrs.drop_duplicates(subset = 'pair', inplace = True)\n",
    "    corrs.drop(['level_1','level_0'], axis = 1, inplace = True)\n",
    "    corrs.set_index('pair', inplace = True)\n",
    "    corrs.columns = pd.Series('correlation')\n",
    "    corrs = abs(corrs).sort_values('correlation', ascending = False)\n",
    "    if display:\n",
    "        display(corrs)\n",
    "    return corrs\n",
    "\n",
    "def make_high_corrs(data, display = False):\n",
    "    corrs = make_corrs(data)\n",
    "    high_corrs = corrs.loc[corrs['correlation']>= 0.75]\n",
    "    if display:\n",
    "        display(high_corrs)\n",
    "    return high_corrs\n",
    "\n",
    "def make_corrs_with_price(data, display = False):\n",
    "    corrs = make_corrs(data)\n",
    "    corrs_with_price = corrs.loc[corrs.index.str.contains('price')]\n",
    "    if display:\n",
    "        display(corrs_with_price)\n",
    "    return corrs_with_price\n",
    "\n",
    "def check_homoscedastic(data, display = False):\n",
    "    results = []\n",
    "    for col in data.drop('price', axis = 1).columns:\n",
    "        lower = data[col].quantile(0.45)\n",
    "        upper = data[col].quantile(0.55)\n",
    "        mids = data.loc[(data[col] >= lower)&(data[col] <= upper)].index\n",
    "\n",
    "        index = [x for x in data.index if x not in mids]\n",
    "        formula = f'price~{col}'\n",
    "        model = smf.ols(formula = formula, data = data).fit()\n",
    "\n",
    "        results.append((col, sms.het_goldfeldquandt(model.resid.iloc[index], model.model.exog[index])[1]))\n",
    "\n",
    "    heteroscedastic = [(col, p) for col, p in results if p < 0.05]\n",
    "    if display:\n",
    "        print(heteroscedastic)\n",
    "    \n",
    "    return heteroscedastic, results\n",
    "\n",
    "def corr(x, y):\n",
    "    xbar = x.mean()\n",
    "    ybar = y.mean()\n",
    "    return sum((x-xbar)*(y-ybar))/np.sqrt(sum((x-xbar)**2)*sum((y-ybar)**2))\n",
    "\n"
   ]
  },
  {
   "cell_type": "code",
   "execution_count": 7,
   "id": "ca13664e-9c0b-4e96-8ca5-f2d5ccf58a3f",
   "metadata": {},
   "outputs": [
    {
     "name": "stdout",
     "output_type": "stream",
     "text": [
      "1225\n"
     ]
    }
   ],
   "source": [
    "poly = PolynomialFeatures(2)\n",
    "data_cop = data.drop(['price','date','zipcode','datefloat','act_prce','id'], axis = 1)\n",
    "poly.fit(data_cop)\n",
    "X = pd.DataFrame(poly.transform(data_cop), columns = poly.get_feature_names(data_cop.columns), index = data_cop.index)\n",
    "y = data['price']\n",
    "print(len(X.columns))\n",
    "linreg = LinearRegression()"
   ]
  },
  {
   "cell_type": "code",
   "execution_count": 8,
   "id": "60edd8b2-9059-4616-9f11-25813dbab080",
   "metadata": {},
   "outputs": [
    {
     "name": "stdout",
     "output_type": "stream",
     "text": [
      "Index(['1', 'sqft_lot', 'waterfront', 'grade', 'sqft_above', 'sqft_basement',\n",
      "       'yr_built', 'yr_renovated', 'lat', 'long',\n",
      "       ...\n",
      "       'years_since_new_man_sq^2', 'years_since_new_man_sq long_man_sq',\n",
      "       'years_since_new_man_sq sqft_lot_man_sq',\n",
      "       'years_since_new_man_sq median_prce_comfort_index_man_x',\n",
      "       'long_man_sq^2', 'long_man_sq sqft_lot_man_sq',\n",
      "       'long_man_sq median_prce_comfort_index_man_x', 'sqft_lot_man_sq^2',\n",
      "       'sqft_lot_man_sq median_prce_comfort_index_man_x',\n",
      "       'median_prce_comfort_index_man_x^2'],\n",
      "      dtype='object', length=1225)\n"
     ]
    }
   ],
   "source": [
    "print(X.columns)"
   ]
  },
  {
   "cell_type": "code",
   "execution_count": 9,
   "id": "c711a426-4310-4691-be45-6aa2aa6adbf4",
   "metadata": {},
   "outputs": [],
   "source": [
    "categoricals = ['bedrooms','bathrooms','floors','waterfront','view','condition','renovated']"
   ]
  },
  {
   "cell_type": "code",
   "execution_count": 10,
   "id": "2ec7f416-80ba-42f7-8d87-b700dd3ef139",
   "metadata": {},
   "outputs": [
    {
     "name": "stdout",
     "output_type": "stream",
     "text": [
      "Removing bedrooms_few^2--Removing bedrooms_few bedrooms_norm--Removing bedrooms_few bedrooms_many--Removing bedrooms_norm^2--Removing bedrooms_norm bedrooms_many--Removing bedrooms_many^2--Removing bathrooms_few^2--Removing bathrooms_few bathrooms_norm--Removing bathrooms_few bathrooms_many--Removing bathrooms_norm^2--Removing bathrooms_norm bathrooms_many--Removing bathrooms_many^2--Removing floors_low^2--Removing floors_low floors_norm--Removing floors_low floors_many--Removing floors_norm^2--Removing floors_norm floors_many--Removing floors_many^2--Removing waterfront^2--Removing view_none^2--Removing view_none view_avg--Removing view_none view_good--Removing view_avg^2--Removing view_avg view_good--Removing view_good^2--Removing condition_awful^2--Removing condition_awful condition_avg--Removing condition_awful condition_good--Removing condition_avg^2--Removing condition_avg condition_good--Removing condition_good^2--Removing yr_built yr_renovated--Removing yr_renovated^2--Removing renovated^2--"
     ]
    }
   ],
   "source": [
    "dropped = 0\n",
    "for cat in categoricals:\n",
    "    cols = X.columns[X.columns.str.contains(cat)]\n",
    "    for col in cols:\n",
    "        if len(col.split(' ')) == 2:\n",
    "            factors = col.split(' ')\n",
    "            if factors[0].split('_')[0] == factors[1].split('_')[0]:\n",
    "                print(f'Removing {col}', end = '--')\n",
    "                dropped += 1\n",
    "                X.drop(col, axis = 1, inplace = True)\n",
    "                \n",
    "        else:\n",
    "            if '^' in col:\n",
    "                print(f'Removing {col}', end = '--')\n",
    "                dropped += 1\n",
    "                X.drop(col, axis = 1, inplace = True)"
   ]
  },
  {
   "cell_type": "code",
   "execution_count": 11,
   "id": "844ceae4-7305-4041-90ad-a4847f59c0c0",
   "metadata": {},
   "outputs": [
    {
     "data": {
      "text/plain": [
       "34"
      ]
     },
     "execution_count": 11,
     "metadata": {},
     "output_type": "execute_result"
    }
   ],
   "source": [
    "dropped"
   ]
  },
  {
   "cell_type": "code",
   "execution_count": 12,
   "id": "1cc807ef-909b-4428-8cba-8b5391fa418d",
   "metadata": {},
   "outputs": [
    {
     "data": {
      "text/plain": [
       "Index(['1', 'sqft_lot', 'waterfront', 'grade', 'sqft_above', 'sqft_basement',\n",
       "       'yr_built', 'yr_renovated', 'lat', 'long',\n",
       "       ...\n",
       "       'years_since_new_man_sq^2', 'years_since_new_man_sq long_man_sq',\n",
       "       'years_since_new_man_sq sqft_lot_man_sq',\n",
       "       'years_since_new_man_sq median_prce_comfort_index_man_x',\n",
       "       'long_man_sq^2', 'long_man_sq sqft_lot_man_sq',\n",
       "       'long_man_sq median_prce_comfort_index_man_x', 'sqft_lot_man_sq^2',\n",
       "       'sqft_lot_man_sq median_prce_comfort_index_man_x',\n",
       "       'median_prce_comfort_index_man_x^2'],\n",
       "      dtype='object', length=1191)"
      ]
     },
     "execution_count": 12,
     "metadata": {},
     "output_type": "execute_result"
    }
   ],
   "source": [
    "X.columns"
   ]
  },
  {
   "cell_type": "code",
   "execution_count": 13,
   "id": "3201102b-2e5f-42bf-85a5-28b0a0931ee2",
   "metadata": {},
   "outputs": [],
   "source": [
    "dropped = 0\n",
    "for col in X.columns:\n",
    "    if X[col].nunique() == 1:\n",
    "        X.drop(col, axis = 1, inplace = True)\n",
    "        dropped+=1"
   ]
  },
  {
   "cell_type": "code",
   "execution_count": 14,
   "id": "ad0312fc-90be-489b-ab5b-c2693ee4e697",
   "metadata": {},
   "outputs": [
    {
     "data": {
      "text/plain": [
       "82"
      ]
     },
     "execution_count": 14,
     "metadata": {},
     "output_type": "execute_result"
    }
   ],
   "source": [
    "dropped"
   ]
  },
  {
   "cell_type": "code",
   "execution_count": 15,
   "id": "13cfad3d-1e7e-4ba0-a133-19b32bcb04a6",
   "metadata": {},
   "outputs": [
    {
     "data": {
      "text/plain": [
       "Index(['sqft_lot', 'waterfront', 'grade', 'sqft_above', 'sqft_basement',\n",
       "       'yr_built', 'yr_renovated', 'lat', 'long', 'sqft_living15',\n",
       "       ...\n",
       "       'years_since_new_man_sq^2', 'years_since_new_man_sq long_man_sq',\n",
       "       'years_since_new_man_sq sqft_lot_man_sq',\n",
       "       'years_since_new_man_sq median_prce_comfort_index_man_x',\n",
       "       'long_man_sq^2', 'long_man_sq sqft_lot_man_sq',\n",
       "       'long_man_sq median_prce_comfort_index_man_x', 'sqft_lot_man_sq^2',\n",
       "       'sqft_lot_man_sq median_prce_comfort_index_man_x',\n",
       "       'median_prce_comfort_index_man_x^2'],\n",
       "      dtype='object', length=1109)"
      ]
     },
     "execution_count": 15,
     "metadata": {},
     "output_type": "execute_result"
    }
   ],
   "source": [
    "X.columns"
   ]
  },
  {
   "cell_type": "code",
   "execution_count": 16,
   "id": "14190ede-e9e1-4ff2-a4d0-5ac27236e244",
   "metadata": {},
   "outputs": [],
   "source": [
    "folds = KFold(n_splits = 5, shuffle = True)\n",
    "from sklearn.metrics import r2_score, mean_squared_error\n",
    "rmse = lambda y, yhat: mean_squared_error(y, yhat, squared = False)\n",
    "def five_fold(X, y, say = False):\n",
    "    if say:\n",
    "        print('KFOLDS')\n",
    "    trains = []\n",
    "    tests = []\n",
    "    count = 0\n",
    "    for tr_ind, te_ind in folds.split(X):\n",
    "        X_train, X_test = X.iloc[tr_ind], X.iloc[te_ind]\n",
    "        y_train, y_test = y.iloc[tr_ind], y.iloc[te_ind]\n",
    "        if len(np.array(X_train).shape) != 1:\n",
    "            linreg.fit(X_train, y_train)\n",
    "            trains.append(linreg.score(X_train, y_train))\n",
    "            tests.append(linreg.score(X_test, y_test))\n",
    "        else:\n",
    "            X_train = np.array(X_train).reshape(-1,1)\n",
    "            X_test = np.array(X_test).reshape(-1,1)\n",
    "            linreg.fit(X_train, y_train)\n",
    "            trains.append(linreg.score(X_train, y_train))\n",
    "            tests.append(linreg.score(X_test, y_test))\n",
    "        count +=1\n",
    "\n",
    "    return sum(trains)/5, sum(tests)/5\n",
    "\n",
    "def five_fold_rmse(X, y, say = False):\n",
    "    if say:\n",
    "        print('KFOLDS')\n",
    "    trains = []\n",
    "    tests = []\n",
    "    count = 0\n",
    "    for tr_ind, te_ind in folds.split(X):\n",
    "        X_train, X_test = X.iloc[tr_ind], X.iloc[te_ind]\n",
    "        y_train, y_test = y.iloc[tr_ind], y.iloc[te_ind]\n",
    "        if len(np.array(X_train).shape) != 1:\n",
    "            linreg.fit(X_train, y_train)\n",
    "            trains.append(rmse(np.exp(linreg.predict(X_train)), np.exp(y_train)))\n",
    "            tests.append(rmse(np.exp(linreg.predict(X_test)), np.exp(y_test)))\n",
    "        else:\n",
    "            X_train = np.array(X_train).reshape(-1,1)\n",
    "            X_test = np.array(X_test).reshape(-1,1)\n",
    "            linreg.fit(X_train, y_train)\n",
    "            trains.append(rmse(np.exp(linreg.predict(X_train)), np.exp(y_train)))\n",
    "            tests.append(rmse(np.exp(linreg.predict(X_test)), np.exp(y_test)))\n",
    "        count +=1\n",
    "\n",
    "    return sum(trains)/5, sum(tests)/5"
   ]
  },
  {
   "cell_type": "code",
   "execution_count": 17,
   "id": "8144263f-985d-4826-a507-90aa031609f4",
   "metadata": {},
   "outputs": [],
   "source": [
    "import copy\n",
    "def find_best(X, y, initial):\n",
    "    while 1:\n",
    "        changed = 0\n",
    "        if len(initial) != 0:\n",
    "            init_train, init_test = five_fold(X[initial], y)\n",
    "        else:\n",
    "            init_train, init_test = 0, 0\n",
    "        print(initial)\n",
    "        addition = 0\n",
    "        added = ''\n",
    "        for col in X.drop(initial, axis = 1).columns:\n",
    "            new = copy.copy(initial)\n",
    "            new.append(col)\n",
    "            train_sc, test_sc = five_fold(X[new], y)\n",
    "            if (test_sc > addition) and (test_sc > init_test) and (abs(test_sc - train_sc) < 0.07):\n",
    "                addition = test_sc\n",
    "                added = col\n",
    "        if addition != 0:\n",
    "            changed = 1\n",
    "            initial.append(added)\n",
    "            print(f'Added {added} with score {addition}')\n",
    "        \n",
    "        if len(initial) != 0:\n",
    "            init_train, init_test = five_fold(X[initial], y)\n",
    "        else:\n",
    "            init_train, init_test = 0, 0\n",
    "        print(initial)\n",
    "        removal = 0\n",
    "        removed = ''\n",
    "        for col in initial:\n",
    "            new = copy.copy(initial)\n",
    "            new.remove(col)\n",
    "            if len(new) == 0:\n",
    "                break\n",
    "            train_sc, test_sc = five_fold(X[new], y)\n",
    "            if (test_sc > removal) and (test_sc > init_test) and (abs(test_sc - train_sc) < 0.07):\n",
    "                removal = test_sc\n",
    "                removed = col\n",
    "        if removal != 0:\n",
    "            changed = 1\n",
    "            initial.remove(removed)\n",
    "            print(f'Removed {removed} with score {removal}')\n",
    "        \n",
    "        if changed == 0:\n",
    "            break\n",
    "    print(initial)\n",
    "    \n",
    "def find_best_rmse(X, y, initial):\n",
    "    while 1:\n",
    "        changed = 0\n",
    "        if len(initial) != 0:\n",
    "            init_train, init_test = five_fold_rmse(X[initial], y)\n",
    "        else:\n",
    "            init_train, init_test = 10**20, 10**20\n",
    "        print(initial)\n",
    "        addition = 10**20\n",
    "        added = ''\n",
    "        for col in X.drop(initial, axis = 1).columns:\n",
    "            new = copy.copy(initial)\n",
    "            new.append(col)\n",
    "            train_sc, test_sc = five_fold_rmse(X[new], y)\n",
    "            if (test_sc < addition) and (test_sc < init_test):\n",
    "                addition = test_sc\n",
    "                added = col\n",
    "        if addition != 10**20:\n",
    "            changed = 1\n",
    "            initial.append(added)\n",
    "            print(f'Added {added} with score {addition}')\n",
    "        \n",
    "        if len(initial) != 0:\n",
    "            init_train, init_test = five_fold_rmse(X[initial], y)\n",
    "        else:\n",
    "            init_train, init_test = 10**20, 10**20\n",
    "        print(initial)\n",
    "        removal = 10**20\n",
    "        removed = ''\n",
    "        for col in initial:\n",
    "            new = copy.copy(initial)\n",
    "            new.remove(col)\n",
    "            if len(new) == 0:\n",
    "                break\n",
    "            train_sc, test_sc = five_fold_rmse(X[new], y)\n",
    "            if (test_sc < removal) and (test_sc < init_test):\n",
    "                removal = test_sc\n",
    "                removed = col\n",
    "        if removal != 10**20:\n",
    "            changed = 1\n",
    "            initial.remove(removed)\n",
    "            print(f'Removed {removed} with score {removal}')\n",
    "        \n",
    "        if changed == 0:\n",
    "            break\n",
    "    print(initial)"
   ]
  },
  {
   "cell_type": "code",
   "execution_count": 23,
   "id": "cf7786cc-cb83-4051-9232-1b7d2f895064",
   "metadata": {},
   "outputs": [],
   "source": [
    "low_inits = ['log_sqft_living median_prce_comfort_index_man_x', 'unemployment median_prce_man_sq', 'comfort_index view_none', 'grade log_sqft_living', 'condition_good years_since_new_man_sq', 'yr_renovated sqft_living15', 'waterfront long_man_sq', 'sqft_lot sqft_above', 'long_man_sq^2', 'sqft_living15 comfort_index', 'waterfront median_age', 'grade median_income', 'sqft_lot summer', 'yr_renovated condition_awful', 'yr_renovated spring', 'sqft_lot15 years_since_new_man_sq']"
   ]
  },
  {
   "cell_type": "code",
   "execution_count": 18,
   "id": "1d71e029-545d-47de-bd77-c188f031e729",
   "metadata": {},
   "outputs": [
    {
     "name": "stdout",
     "output_type": "stream",
     "text": [
      "[]\n",
      "Added log_sqft_living median_prce_comfort_index_man_x with score 0.45948733828550514\n",
      "['log_sqft_living median_prce_comfort_index_man_x']\n",
      "['log_sqft_living median_prce_comfort_index_man_x']\n",
      "Added unemployment median_prce_man_sq with score 0.507536375632202\n",
      "['log_sqft_living median_prce_comfort_index_man_x', 'unemployment median_prce_man_sq']\n",
      "['log_sqft_living median_prce_comfort_index_man_x', 'unemployment median_prce_man_sq']\n",
      "Added comfort_index view_none with score 0.5318376968647873\n",
      "['log_sqft_living median_prce_comfort_index_man_x', 'unemployment median_prce_man_sq', 'comfort_index view_none']\n",
      "['log_sqft_living median_prce_comfort_index_man_x', 'unemployment median_prce_man_sq', 'comfort_index view_none']\n",
      "Added grade log_sqft_living with score 0.54823556788875\n",
      "['log_sqft_living median_prce_comfort_index_man_x', 'unemployment median_prce_man_sq', 'comfort_index view_none', 'grade log_sqft_living']\n",
      "['log_sqft_living median_prce_comfort_index_man_x', 'unemployment median_prce_man_sq', 'comfort_index view_none', 'grade log_sqft_living']\n",
      "Added condition_good years_since_new_man_sq with score 0.5630734632795846\n",
      "['log_sqft_living median_prce_comfort_index_man_x', 'unemployment median_prce_man_sq', 'comfort_index view_none', 'grade log_sqft_living', 'condition_good years_since_new_man_sq']\n",
      "['log_sqft_living median_prce_comfort_index_man_x', 'unemployment median_prce_man_sq', 'comfort_index view_none', 'grade log_sqft_living', 'condition_good years_since_new_man_sq']\n",
      "Added yr_renovated sqft_living15 with score 0.570128053066566\n",
      "['log_sqft_living median_prce_comfort_index_man_x', 'unemployment median_prce_man_sq', 'comfort_index view_none', 'grade log_sqft_living', 'condition_good years_since_new_man_sq', 'yr_renovated sqft_living15']\n",
      "['log_sqft_living median_prce_comfort_index_man_x', 'unemployment median_prce_man_sq', 'comfort_index view_none', 'grade log_sqft_living', 'condition_good years_since_new_man_sq', 'yr_renovated sqft_living15']\n",
      "Added lat condition_awful with score 0.5752354027403879\n",
      "['log_sqft_living median_prce_comfort_index_man_x', 'unemployment median_prce_man_sq', 'comfort_index view_none', 'grade log_sqft_living', 'condition_good years_since_new_man_sq', 'yr_renovated sqft_living15', 'lat condition_awful']\n",
      "['log_sqft_living median_prce_comfort_index_man_x', 'unemployment median_prce_man_sq', 'comfort_index view_none', 'grade log_sqft_living', 'condition_good years_since_new_man_sq', 'yr_renovated sqft_living15', 'lat condition_awful']\n",
      "Added waterfront long_man_sq with score 0.5795824306847108\n",
      "['log_sqft_living median_prce_comfort_index_man_x', 'unemployment median_prce_man_sq', 'comfort_index view_none', 'grade log_sqft_living', 'condition_good years_since_new_man_sq', 'yr_renovated sqft_living15', 'lat condition_awful', 'waterfront long_man_sq']\n",
      "['log_sqft_living median_prce_comfort_index_man_x', 'unemployment median_prce_man_sq', 'comfort_index view_none', 'grade log_sqft_living', 'condition_good years_since_new_man_sq', 'yr_renovated sqft_living15', 'lat condition_awful', 'waterfront long_man_sq']\n",
      "Added sqft_lot sqft_above with score 0.5825225302116974\n",
      "['log_sqft_living median_prce_comfort_index_man_x', 'unemployment median_prce_man_sq', 'comfort_index view_none', 'grade log_sqft_living', 'condition_good years_since_new_man_sq', 'yr_renovated sqft_living15', 'lat condition_awful', 'waterfront long_man_sq', 'sqft_lot sqft_above']\n",
      "['log_sqft_living median_prce_comfort_index_man_x', 'unemployment median_prce_man_sq', 'comfort_index view_none', 'grade log_sqft_living', 'condition_good years_since_new_man_sq', 'yr_renovated sqft_living15', 'lat condition_awful', 'waterfront long_man_sq', 'sqft_lot sqft_above']\n",
      "Added long_man_sq^2 with score 0.5885017503957848\n",
      "['log_sqft_living median_prce_comfort_index_man_x', 'unemployment median_prce_man_sq', 'comfort_index view_none', 'grade log_sqft_living', 'condition_good years_since_new_man_sq', 'yr_renovated sqft_living15', 'lat condition_awful', 'waterfront long_man_sq', 'sqft_lot sqft_above', 'long_man_sq^2']\n",
      "Removed lat condition_awful with score 0.5831376081196773\n",
      "['log_sqft_living median_prce_comfort_index_man_x', 'unemployment median_prce_man_sq', 'comfort_index view_none', 'grade log_sqft_living', 'condition_good years_since_new_man_sq', 'yr_renovated sqft_living15', 'waterfront long_man_sq', 'sqft_lot sqft_above', 'long_man_sq^2']\n",
      "Added sqft_above condition_awful with score 0.586988546181448\n",
      "['log_sqft_living median_prce_comfort_index_man_x', 'unemployment median_prce_man_sq', 'comfort_index view_none', 'grade log_sqft_living', 'condition_good years_since_new_man_sq', 'yr_renovated sqft_living15', 'waterfront long_man_sq', 'sqft_lot sqft_above', 'long_man_sq^2', 'sqft_above condition_awful']\n",
      "['log_sqft_living median_prce_comfort_index_man_x', 'unemployment median_prce_man_sq', 'comfort_index view_none', 'grade log_sqft_living', 'condition_good years_since_new_man_sq', 'yr_renovated sqft_living15', 'waterfront long_man_sq', 'sqft_lot sqft_above', 'long_man_sq^2', 'sqft_above condition_awful']\n",
      "Added grade bedrooms_norm with score 0.5888301562486695\n",
      "['log_sqft_living median_prce_comfort_index_man_x', 'unemployment median_prce_man_sq', 'comfort_index view_none', 'grade log_sqft_living', 'condition_good years_since_new_man_sq', 'yr_renovated sqft_living15', 'waterfront long_man_sq', 'sqft_lot sqft_above', 'long_man_sq^2', 'sqft_above condition_awful', 'grade bedrooms_norm']\n",
      "Removed grade bedrooms_norm with score 0.5827043460549904\n",
      "['log_sqft_living median_prce_comfort_index_man_x', 'unemployment median_prce_man_sq', 'comfort_index view_none', 'grade log_sqft_living', 'condition_good years_since_new_man_sq', 'yr_renovated sqft_living15', 'waterfront long_man_sq', 'sqft_lot sqft_above', 'long_man_sq^2', 'sqft_above condition_awful']\n",
      "Added sqft_living15 comfort_index with score 0.5894469989010023\n",
      "['log_sqft_living median_prce_comfort_index_man_x', 'unemployment median_prce_man_sq', 'comfort_index view_none', 'grade log_sqft_living', 'condition_good years_since_new_man_sq', 'yr_renovated sqft_living15', 'waterfront long_man_sq', 'sqft_lot sqft_above', 'long_man_sq^2', 'sqft_above condition_awful', 'sqft_living15 comfort_index']\n",
      "['log_sqft_living median_prce_comfort_index_man_x', 'unemployment median_prce_man_sq', 'comfort_index view_none', 'grade log_sqft_living', 'condition_good years_since_new_man_sq', 'yr_renovated sqft_living15', 'waterfront long_man_sq', 'sqft_lot sqft_above', 'long_man_sq^2', 'sqft_above condition_awful', 'sqft_living15 comfort_index']\n",
      "Added waterfront median_age with score 0.5922678758736051\n",
      "['log_sqft_living median_prce_comfort_index_man_x', 'unemployment median_prce_man_sq', 'comfort_index view_none', 'grade log_sqft_living', 'condition_good years_since_new_man_sq', 'yr_renovated sqft_living15', 'waterfront long_man_sq', 'sqft_lot sqft_above', 'long_man_sq^2', 'sqft_above condition_awful', 'sqft_living15 comfort_index', 'waterfront median_age']\n",
      "['log_sqft_living median_prce_comfort_index_man_x', 'unemployment median_prce_man_sq', 'comfort_index view_none', 'grade log_sqft_living', 'condition_good years_since_new_man_sq', 'yr_renovated sqft_living15', 'waterfront long_man_sq', 'sqft_lot sqft_above', 'long_man_sq^2', 'sqft_above condition_awful', 'sqft_living15 comfort_index', 'waterfront median_age']\n",
      "Added yr_renovated spring with score 0.5980708177027726\n",
      "['log_sqft_living median_prce_comfort_index_man_x', 'unemployment median_prce_man_sq', 'comfort_index view_none', 'grade log_sqft_living', 'condition_good years_since_new_man_sq', 'yr_renovated sqft_living15', 'waterfront long_man_sq', 'sqft_lot sqft_above', 'long_man_sq^2', 'sqft_above condition_awful', 'sqft_living15 comfort_index', 'waterfront median_age', 'yr_renovated spring']\n",
      "['log_sqft_living median_prce_comfort_index_man_x', 'unemployment median_prce_man_sq', 'comfort_index view_none', 'grade log_sqft_living', 'condition_good years_since_new_man_sq', 'yr_renovated sqft_living15', 'waterfront long_man_sq', 'sqft_lot sqft_above', 'long_man_sq^2', 'sqft_above condition_awful', 'sqft_living15 comfort_index', 'waterfront median_age', 'yr_renovated spring']\n",
      "Added grade median_income with score 0.5988087509284632\n",
      "['log_sqft_living median_prce_comfort_index_man_x', 'unemployment median_prce_man_sq', 'comfort_index view_none', 'grade log_sqft_living', 'condition_good years_since_new_man_sq', 'yr_renovated sqft_living15', 'waterfront long_man_sq', 'sqft_lot sqft_above', 'long_man_sq^2', 'sqft_above condition_awful', 'sqft_living15 comfort_index', 'waterfront median_age', 'yr_renovated spring', 'grade median_income']\n",
      "['log_sqft_living median_prce_comfort_index_man_x', 'unemployment median_prce_man_sq', 'comfort_index view_none', 'grade log_sqft_living', 'condition_good years_since_new_man_sq', 'yr_renovated sqft_living15', 'waterfront long_man_sq', 'sqft_lot sqft_above', 'long_man_sq^2', 'sqft_above condition_awful', 'sqft_living15 comfort_index', 'waterfront median_age', 'yr_renovated spring', 'grade median_income']\n",
      "Added bedrooms_norm median_prce_comfort_index_man_x with score 0.6019919212722786\n",
      "['log_sqft_living median_prce_comfort_index_man_x', 'unemployment median_prce_man_sq', 'comfort_index view_none', 'grade log_sqft_living', 'condition_good years_since_new_man_sq', 'yr_renovated sqft_living15', 'waterfront long_man_sq', 'sqft_lot sqft_above', 'long_man_sq^2', 'sqft_above condition_awful', 'sqft_living15 comfort_index', 'waterfront median_age', 'yr_renovated spring', 'grade median_income', 'bedrooms_norm median_prce_comfort_index_man_x']\n",
      "Removed bedrooms_norm median_prce_comfort_index_man_x with score 0.6003606079296334\n",
      "['log_sqft_living median_prce_comfort_index_man_x', 'unemployment median_prce_man_sq', 'comfort_index view_none', 'grade log_sqft_living', 'condition_good years_since_new_man_sq', 'yr_renovated sqft_living15', 'waterfront long_man_sq', 'sqft_lot sqft_above', 'long_man_sq^2', 'sqft_above condition_awful', 'sqft_living15 comfort_index', 'waterfront median_age', 'yr_renovated spring', 'grade median_income']\n",
      "Added years_since_new_man_sq median_prce_comfort_index_man_x with score 0.6011772591359874\n",
      "['log_sqft_living median_prce_comfort_index_man_x', 'unemployment median_prce_man_sq', 'comfort_index view_none', 'grade log_sqft_living', 'condition_good years_since_new_man_sq', 'yr_renovated sqft_living15', 'waterfront long_man_sq', 'sqft_lot sqft_above', 'long_man_sq^2', 'sqft_above condition_awful', 'sqft_living15 comfort_index', 'waterfront median_age', 'yr_renovated spring', 'grade median_income', 'years_since_new_man_sq median_prce_comfort_index_man_x']\n",
      "Removed yr_renovated spring with score 0.596481840965679\n",
      "['log_sqft_living median_prce_comfort_index_man_x', 'unemployment median_prce_man_sq', 'comfort_index view_none', 'grade log_sqft_living', 'condition_good years_since_new_man_sq', 'yr_renovated sqft_living15', 'waterfront long_man_sq', 'sqft_lot sqft_above', 'long_man_sq^2', 'sqft_above condition_awful', 'sqft_living15 comfort_index', 'waterfront median_age', 'grade median_income', 'years_since_new_man_sq median_prce_comfort_index_man_x']\n",
      "Added median_age seasonal with score 0.6005952541406192\n",
      "['log_sqft_living median_prce_comfort_index_man_x', 'unemployment median_prce_man_sq', 'comfort_index view_none', 'grade log_sqft_living', 'condition_good years_since_new_man_sq', 'yr_renovated sqft_living15', 'waterfront long_man_sq', 'sqft_lot sqft_above', 'long_man_sq^2', 'sqft_above condition_awful', 'sqft_living15 comfort_index', 'waterfront median_age', 'grade median_income', 'years_since_new_man_sq median_prce_comfort_index_man_x', 'median_age seasonal']\n",
      "['log_sqft_living median_prce_comfort_index_man_x', 'unemployment median_prce_man_sq', 'comfort_index view_none', 'grade log_sqft_living', 'condition_good years_since_new_man_sq', 'yr_renovated sqft_living15', 'waterfront long_man_sq', 'sqft_lot sqft_above', 'long_man_sq^2', 'sqft_above condition_awful', 'sqft_living15 comfort_index', 'waterfront median_age', 'grade median_income', 'years_since_new_man_sq median_prce_comfort_index_man_x', 'median_age seasonal']\n",
      "Added bath_per_bed years_since_new_man_sq with score 0.60139067885457\n",
      "['log_sqft_living median_prce_comfort_index_man_x', 'unemployment median_prce_man_sq', 'comfort_index view_none', 'grade log_sqft_living', 'condition_good years_since_new_man_sq', 'yr_renovated sqft_living15', 'waterfront long_man_sq', 'sqft_lot sqft_above', 'long_man_sq^2', 'sqft_above condition_awful', 'sqft_living15 comfort_index', 'waterfront median_age', 'grade median_income', 'years_since_new_man_sq median_prce_comfort_index_man_x', 'median_age seasonal', 'bath_per_bed years_since_new_man_sq']\n",
      "['log_sqft_living median_prce_comfort_index_man_x', 'unemployment median_prce_man_sq', 'comfort_index view_none', 'grade log_sqft_living', 'condition_good years_since_new_man_sq', 'yr_renovated sqft_living15', 'waterfront long_man_sq', 'sqft_lot sqft_above', 'long_man_sq^2', 'sqft_above condition_awful', 'sqft_living15 comfort_index', 'waterfront median_age', 'grade median_income', 'years_since_new_man_sq median_prce_comfort_index_man_x', 'median_age seasonal', 'bath_per_bed years_since_new_man_sq']\n",
      "Added sqft_lot summer with score 0.6016892256236392\n",
      "['log_sqft_living median_prce_comfort_index_man_x', 'unemployment median_prce_man_sq', 'comfort_index view_none', 'grade log_sqft_living', 'condition_good years_since_new_man_sq', 'yr_renovated sqft_living15', 'waterfront long_man_sq', 'sqft_lot sqft_above', 'long_man_sq^2', 'sqft_above condition_awful', 'sqft_living15 comfort_index', 'waterfront median_age', 'grade median_income', 'years_since_new_man_sq median_prce_comfort_index_man_x', 'median_age seasonal', 'bath_per_bed years_since_new_man_sq', 'sqft_lot summer']\n",
      "Removed median_age seasonal with score 0.5961220189234206\n",
      "['log_sqft_living median_prce_comfort_index_man_x', 'unemployment median_prce_man_sq', 'comfort_index view_none', 'grade log_sqft_living', 'condition_good years_since_new_man_sq', 'yr_renovated sqft_living15', 'waterfront long_man_sq', 'sqft_lot sqft_above', 'long_man_sq^2', 'sqft_above condition_awful', 'sqft_living15 comfort_index', 'waterfront median_age', 'grade median_income', 'years_since_new_man_sq median_prce_comfort_index_man_x', 'bath_per_bed years_since_new_man_sq', 'sqft_lot summer']\n",
      "Added yr_renovated condition_awful with score 0.6017711592669795\n",
      "['log_sqft_living median_prce_comfort_index_man_x', 'unemployment median_prce_man_sq', 'comfort_index view_none', 'grade log_sqft_living', 'condition_good years_since_new_man_sq', 'yr_renovated sqft_living15', 'waterfront long_man_sq', 'sqft_lot sqft_above', 'long_man_sq^2', 'sqft_above condition_awful', 'sqft_living15 comfort_index', 'waterfront median_age', 'grade median_income', 'years_since_new_man_sq median_prce_comfort_index_man_x', 'bath_per_bed years_since_new_man_sq', 'sqft_lot summer', 'yr_renovated condition_awful']\n",
      "Removed years_since_new_man_sq median_prce_comfort_index_man_x with score 0.6000228322195793\n",
      "['log_sqft_living median_prce_comfort_index_man_x', 'unemployment median_prce_man_sq', 'comfort_index view_none', 'grade log_sqft_living', 'condition_good years_since_new_man_sq', 'yr_renovated sqft_living15', 'waterfront long_man_sq', 'sqft_lot sqft_above', 'long_man_sq^2', 'sqft_above condition_awful', 'sqft_living15 comfort_index', 'waterfront median_age', 'grade median_income', 'bath_per_bed years_since_new_man_sq', 'sqft_lot summer', 'yr_renovated condition_awful']\n",
      "Added yr_renovated spring with score 0.6036568719266291\n",
      "['log_sqft_living median_prce_comfort_index_man_x', 'unemployment median_prce_man_sq', 'comfort_index view_none', 'grade log_sqft_living', 'condition_good years_since_new_man_sq', 'yr_renovated sqft_living15', 'waterfront long_man_sq', 'sqft_lot sqft_above', 'long_man_sq^2', 'sqft_above condition_awful', 'sqft_living15 comfort_index', 'waterfront median_age', 'grade median_income', 'bath_per_bed years_since_new_man_sq', 'sqft_lot summer', 'yr_renovated condition_awful', 'yr_renovated spring']\n",
      "Removed sqft_above condition_awful with score 0.6028511352587589\n",
      "['log_sqft_living median_prce_comfort_index_man_x', 'unemployment median_prce_man_sq', 'comfort_index view_none', 'grade log_sqft_living', 'condition_good years_since_new_man_sq', 'yr_renovated sqft_living15', 'waterfront long_man_sq', 'sqft_lot sqft_above', 'long_man_sq^2', 'sqft_living15 comfort_index', 'waterfront median_age', 'grade median_income', 'bath_per_bed years_since_new_man_sq', 'sqft_lot summer', 'yr_renovated condition_awful', 'yr_renovated spring']\n",
      "Added sqft_lot15 years_since_new_man_sq with score 0.6052076940695159\n",
      "['log_sqft_living median_prce_comfort_index_man_x', 'unemployment median_prce_man_sq', 'comfort_index view_none', 'grade log_sqft_living', 'condition_good years_since_new_man_sq', 'yr_renovated sqft_living15', 'waterfront long_man_sq', 'sqft_lot sqft_above', 'long_man_sq^2', 'sqft_living15 comfort_index', 'waterfront median_age', 'grade median_income', 'bath_per_bed years_since_new_man_sq', 'sqft_lot summer', 'yr_renovated condition_awful', 'yr_renovated spring', 'sqft_lot15 years_since_new_man_sq']\n",
      "Removed bath_per_bed years_since_new_man_sq with score 0.60021861237474\n",
      "['log_sqft_living median_prce_comfort_index_man_x', 'unemployment median_prce_man_sq', 'comfort_index view_none', 'grade log_sqft_living', 'condition_good years_since_new_man_sq', 'yr_renovated sqft_living15', 'waterfront long_man_sq', 'sqft_lot sqft_above', 'long_man_sq^2', 'sqft_living15 comfort_index', 'waterfront median_age', 'grade median_income', 'sqft_lot summer', 'yr_renovated condition_awful', 'yr_renovated spring', 'sqft_lot15 years_since_new_man_sq']\n",
      "Added sqft_basement years_since_new with score 0.6038403023361967\n",
      "['log_sqft_living median_prce_comfort_index_man_x', 'unemployment median_prce_man_sq', 'comfort_index view_none', 'grade log_sqft_living', 'condition_good years_since_new_man_sq', 'yr_renovated sqft_living15', 'waterfront long_man_sq', 'sqft_lot sqft_above', 'long_man_sq^2', 'sqft_living15 comfort_index', 'waterfront median_age', 'grade median_income', 'sqft_lot summer', 'yr_renovated condition_awful', 'yr_renovated spring', 'sqft_lot15 years_since_new_man_sq', 'sqft_basement years_since_new']\n"
     ]
    },
    {
     "ename": "KeyboardInterrupt",
     "evalue": "",
     "output_type": "error",
     "traceback": [
      "\u001b[1;31m---------------------------------------------------------------------------\u001b[0m",
      "\u001b[1;31mKeyboardInterrupt\u001b[0m                         Traceback (most recent call last)",
      "\u001b[1;32m<ipython-input-18-ed03f034b7f5>\u001b[0m in \u001b[0;36m<module>\u001b[1;34m\u001b[0m\n\u001b[1;32m----> 1\u001b[1;33m \u001b[0mfind_best\u001b[0m\u001b[1;33m(\u001b[0m\u001b[0mX\u001b[0m\u001b[1;33m,\u001b[0m \u001b[0my\u001b[0m\u001b[1;33m,\u001b[0m \u001b[1;33m[\u001b[0m\u001b[1;33m]\u001b[0m\u001b[1;33m)\u001b[0m\u001b[1;33m\u001b[0m\u001b[1;33m\u001b[0m\u001b[0m\n\u001b[0m",
      "\u001b[1;32m<ipython-input-17-7d80adfb689b>\u001b[0m in \u001b[0;36mfind_best\u001b[1;34m(X, y, initial)\u001b[0m\n\u001b[0;32m     34\u001b[0m             \u001b[1;32mif\u001b[0m \u001b[0mlen\u001b[0m\u001b[1;33m(\u001b[0m\u001b[0mnew\u001b[0m\u001b[1;33m)\u001b[0m \u001b[1;33m==\u001b[0m \u001b[1;36m0\u001b[0m\u001b[1;33m:\u001b[0m\u001b[1;33m\u001b[0m\u001b[1;33m\u001b[0m\u001b[0m\n\u001b[0;32m     35\u001b[0m                 \u001b[1;32mbreak\u001b[0m\u001b[1;33m\u001b[0m\u001b[1;33m\u001b[0m\u001b[0m\n\u001b[1;32m---> 36\u001b[1;33m             \u001b[0mtrain_sc\u001b[0m\u001b[1;33m,\u001b[0m \u001b[0mtest_sc\u001b[0m \u001b[1;33m=\u001b[0m \u001b[0mfive_fold\u001b[0m\u001b[1;33m(\u001b[0m\u001b[0mX\u001b[0m\u001b[1;33m[\u001b[0m\u001b[0mnew\u001b[0m\u001b[1;33m]\u001b[0m\u001b[1;33m,\u001b[0m \u001b[0my\u001b[0m\u001b[1;33m)\u001b[0m\u001b[1;33m\u001b[0m\u001b[1;33m\u001b[0m\u001b[0m\n\u001b[0m\u001b[0;32m     37\u001b[0m             \u001b[1;32mif\u001b[0m \u001b[1;33m(\u001b[0m\u001b[0mtest_sc\u001b[0m \u001b[1;33m>\u001b[0m \u001b[0mremoval\u001b[0m\u001b[1;33m)\u001b[0m \u001b[1;32mand\u001b[0m \u001b[1;33m(\u001b[0m\u001b[0mtest_sc\u001b[0m \u001b[1;33m>\u001b[0m \u001b[0minit_test\u001b[0m\u001b[1;33m)\u001b[0m \u001b[1;32mand\u001b[0m \u001b[1;33m(\u001b[0m\u001b[0mabs\u001b[0m\u001b[1;33m(\u001b[0m\u001b[0mtest_sc\u001b[0m \u001b[1;33m-\u001b[0m \u001b[0mtrain_sc\u001b[0m\u001b[1;33m)\u001b[0m \u001b[1;33m<\u001b[0m \u001b[1;36m0.07\u001b[0m\u001b[1;33m)\u001b[0m\u001b[1;33m:\u001b[0m\u001b[1;33m\u001b[0m\u001b[1;33m\u001b[0m\u001b[0m\n\u001b[0;32m     38\u001b[0m                 \u001b[0mremoval\u001b[0m \u001b[1;33m=\u001b[0m \u001b[0mtest_sc\u001b[0m\u001b[1;33m\u001b[0m\u001b[1;33m\u001b[0m\u001b[0m\n",
      "\u001b[1;32m<ipython-input-16-b85ac8fb4e5a>\u001b[0m in \u001b[0;36mfive_fold\u001b[1;34m(X, y, say)\u001b[0m\n\u001b[0;32m     13\u001b[0m         \u001b[1;32mif\u001b[0m \u001b[0mlen\u001b[0m\u001b[1;33m(\u001b[0m\u001b[0mnp\u001b[0m\u001b[1;33m.\u001b[0m\u001b[0marray\u001b[0m\u001b[1;33m(\u001b[0m\u001b[0mX_train\u001b[0m\u001b[1;33m)\u001b[0m\u001b[1;33m.\u001b[0m\u001b[0mshape\u001b[0m\u001b[1;33m)\u001b[0m \u001b[1;33m!=\u001b[0m \u001b[1;36m1\u001b[0m\u001b[1;33m:\u001b[0m\u001b[1;33m\u001b[0m\u001b[1;33m\u001b[0m\u001b[0m\n\u001b[0;32m     14\u001b[0m             \u001b[0mlinreg\u001b[0m\u001b[1;33m.\u001b[0m\u001b[0mfit\u001b[0m\u001b[1;33m(\u001b[0m\u001b[0mX_train\u001b[0m\u001b[1;33m,\u001b[0m \u001b[0my_train\u001b[0m\u001b[1;33m)\u001b[0m\u001b[1;33m\u001b[0m\u001b[1;33m\u001b[0m\u001b[0m\n\u001b[1;32m---> 15\u001b[1;33m             \u001b[0mtrains\u001b[0m\u001b[1;33m.\u001b[0m\u001b[0mappend\u001b[0m\u001b[1;33m(\u001b[0m\u001b[0mlinreg\u001b[0m\u001b[1;33m.\u001b[0m\u001b[0mscore\u001b[0m\u001b[1;33m(\u001b[0m\u001b[0mX_train\u001b[0m\u001b[1;33m,\u001b[0m \u001b[0my_train\u001b[0m\u001b[1;33m)\u001b[0m\u001b[1;33m)\u001b[0m\u001b[1;33m\u001b[0m\u001b[1;33m\u001b[0m\u001b[0m\n\u001b[0m\u001b[0;32m     16\u001b[0m             \u001b[0mtests\u001b[0m\u001b[1;33m.\u001b[0m\u001b[0mappend\u001b[0m\u001b[1;33m(\u001b[0m\u001b[0mlinreg\u001b[0m\u001b[1;33m.\u001b[0m\u001b[0mscore\u001b[0m\u001b[1;33m(\u001b[0m\u001b[0mX_test\u001b[0m\u001b[1;33m,\u001b[0m \u001b[0my_test\u001b[0m\u001b[1;33m)\u001b[0m\u001b[1;33m)\u001b[0m\u001b[1;33m\u001b[0m\u001b[1;33m\u001b[0m\u001b[0m\n\u001b[0;32m     17\u001b[0m         \u001b[1;32melse\u001b[0m\u001b[1;33m:\u001b[0m\u001b[1;33m\u001b[0m\u001b[1;33m\u001b[0m\u001b[0m\n",
      "\u001b[1;32m~\\anaconda3\\envs\\learn-env\\lib\\site-packages\\sklearn\\base.py\u001b[0m in \u001b[0;36mscore\u001b[1;34m(self, X, y, sample_weight)\u001b[0m\n\u001b[0;32m    549\u001b[0m \u001b[1;33m\u001b[0m\u001b[0m\n\u001b[0;32m    550\u001b[0m         \u001b[1;32mfrom\u001b[0m \u001b[1;33m.\u001b[0m\u001b[0mmetrics\u001b[0m \u001b[1;32mimport\u001b[0m \u001b[0mr2_score\u001b[0m\u001b[1;33m\u001b[0m\u001b[1;33m\u001b[0m\u001b[0m\n\u001b[1;32m--> 551\u001b[1;33m         \u001b[0my_pred\u001b[0m \u001b[1;33m=\u001b[0m \u001b[0mself\u001b[0m\u001b[1;33m.\u001b[0m\u001b[0mpredict\u001b[0m\u001b[1;33m(\u001b[0m\u001b[0mX\u001b[0m\u001b[1;33m)\u001b[0m\u001b[1;33m\u001b[0m\u001b[1;33m\u001b[0m\u001b[0m\n\u001b[0m\u001b[0;32m    552\u001b[0m         \u001b[1;32mreturn\u001b[0m \u001b[0mr2_score\u001b[0m\u001b[1;33m(\u001b[0m\u001b[0my\u001b[0m\u001b[1;33m,\u001b[0m \u001b[0my_pred\u001b[0m\u001b[1;33m,\u001b[0m \u001b[0msample_weight\u001b[0m\u001b[1;33m=\u001b[0m\u001b[0msample_weight\u001b[0m\u001b[1;33m)\u001b[0m\u001b[1;33m\u001b[0m\u001b[1;33m\u001b[0m\u001b[0m\n\u001b[0;32m    553\u001b[0m \u001b[1;33m\u001b[0m\u001b[0m\n",
      "\u001b[1;32m~\\anaconda3\\envs\\learn-env\\lib\\site-packages\\sklearn\\linear_model\\_base.py\u001b[0m in \u001b[0;36mpredict\u001b[1;34m(self, X)\u001b[0m\n\u001b[0;32m    234\u001b[0m             \u001b[0mReturns\u001b[0m \u001b[0mpredicted\u001b[0m \u001b[0mvalues\u001b[0m\u001b[1;33m.\u001b[0m\u001b[1;33m\u001b[0m\u001b[1;33m\u001b[0m\u001b[0m\n\u001b[0;32m    235\u001b[0m         \"\"\"\n\u001b[1;32m--> 236\u001b[1;33m         \u001b[1;32mreturn\u001b[0m \u001b[0mself\u001b[0m\u001b[1;33m.\u001b[0m\u001b[0m_decision_function\u001b[0m\u001b[1;33m(\u001b[0m\u001b[0mX\u001b[0m\u001b[1;33m)\u001b[0m\u001b[1;33m\u001b[0m\u001b[1;33m\u001b[0m\u001b[0m\n\u001b[0m\u001b[0;32m    237\u001b[0m \u001b[1;33m\u001b[0m\u001b[0m\n\u001b[0;32m    238\u001b[0m     \u001b[0m_preprocess_data\u001b[0m \u001b[1;33m=\u001b[0m \u001b[0mstaticmethod\u001b[0m\u001b[1;33m(\u001b[0m\u001b[0m_preprocess_data\u001b[0m\u001b[1;33m)\u001b[0m\u001b[1;33m\u001b[0m\u001b[1;33m\u001b[0m\u001b[0m\n",
      "\u001b[1;32m~\\anaconda3\\envs\\learn-env\\lib\\site-packages\\sklearn\\linear_model\\_base.py\u001b[0m in \u001b[0;36m_decision_function\u001b[1;34m(self, X)\u001b[0m\n\u001b[0;32m    216\u001b[0m         \u001b[0mcheck_is_fitted\u001b[0m\u001b[1;33m(\u001b[0m\u001b[0mself\u001b[0m\u001b[1;33m)\u001b[0m\u001b[1;33m\u001b[0m\u001b[1;33m\u001b[0m\u001b[0m\n\u001b[0;32m    217\u001b[0m \u001b[1;33m\u001b[0m\u001b[0m\n\u001b[1;32m--> 218\u001b[1;33m         \u001b[0mX\u001b[0m \u001b[1;33m=\u001b[0m \u001b[0mcheck_array\u001b[0m\u001b[1;33m(\u001b[0m\u001b[0mX\u001b[0m\u001b[1;33m,\u001b[0m \u001b[0maccept_sparse\u001b[0m\u001b[1;33m=\u001b[0m\u001b[1;33m[\u001b[0m\u001b[1;34m'csr'\u001b[0m\u001b[1;33m,\u001b[0m \u001b[1;34m'csc'\u001b[0m\u001b[1;33m,\u001b[0m \u001b[1;34m'coo'\u001b[0m\u001b[1;33m]\u001b[0m\u001b[1;33m)\u001b[0m\u001b[1;33m\u001b[0m\u001b[1;33m\u001b[0m\u001b[0m\n\u001b[0m\u001b[0;32m    219\u001b[0m         return safe_sparse_dot(X, self.coef_.T,\n\u001b[0;32m    220\u001b[0m                                dense_output=True) + self.intercept_\n",
      "\u001b[1;32m~\\anaconda3\\envs\\learn-env\\lib\\site-packages\\sklearn\\utils\\validation.py\u001b[0m in \u001b[0;36minner_f\u001b[1;34m(*args, **kwargs)\u001b[0m\n\u001b[0;32m     70\u001b[0m                           FutureWarning)\n\u001b[0;32m     71\u001b[0m         \u001b[0mkwargs\u001b[0m\u001b[1;33m.\u001b[0m\u001b[0mupdate\u001b[0m\u001b[1;33m(\u001b[0m\u001b[1;33m{\u001b[0m\u001b[0mk\u001b[0m\u001b[1;33m:\u001b[0m \u001b[0marg\u001b[0m \u001b[1;32mfor\u001b[0m \u001b[0mk\u001b[0m\u001b[1;33m,\u001b[0m \u001b[0marg\u001b[0m \u001b[1;32min\u001b[0m \u001b[0mzip\u001b[0m\u001b[1;33m(\u001b[0m\u001b[0msig\u001b[0m\u001b[1;33m.\u001b[0m\u001b[0mparameters\u001b[0m\u001b[1;33m,\u001b[0m \u001b[0margs\u001b[0m\u001b[1;33m)\u001b[0m\u001b[1;33m}\u001b[0m\u001b[1;33m)\u001b[0m\u001b[1;33m\u001b[0m\u001b[1;33m\u001b[0m\u001b[0m\n\u001b[1;32m---> 72\u001b[1;33m         \u001b[1;32mreturn\u001b[0m \u001b[0mf\u001b[0m\u001b[1;33m(\u001b[0m\u001b[1;33m**\u001b[0m\u001b[0mkwargs\u001b[0m\u001b[1;33m)\u001b[0m\u001b[1;33m\u001b[0m\u001b[1;33m\u001b[0m\u001b[0m\n\u001b[0m\u001b[0;32m     73\u001b[0m     \u001b[1;32mreturn\u001b[0m \u001b[0minner_f\u001b[0m\u001b[1;33m\u001b[0m\u001b[1;33m\u001b[0m\u001b[0m\n\u001b[0;32m     74\u001b[0m \u001b[1;33m\u001b[0m\u001b[0m\n",
      "\u001b[1;32m~\\anaconda3\\envs\\learn-env\\lib\\site-packages\\sklearn\\utils\\validation.py\u001b[0m in \u001b[0;36mcheck_array\u001b[1;34m(array, accept_sparse, accept_large_sparse, dtype, order, copy, force_all_finite, ensure_2d, allow_nd, ensure_min_samples, ensure_min_features, estimator)\u001b[0m\n\u001b[0;32m    642\u001b[0m \u001b[1;33m\u001b[0m\u001b[0m\n\u001b[0;32m    643\u001b[0m         \u001b[1;32mif\u001b[0m \u001b[0mforce_all_finite\u001b[0m\u001b[1;33m:\u001b[0m\u001b[1;33m\u001b[0m\u001b[1;33m\u001b[0m\u001b[0m\n\u001b[1;32m--> 644\u001b[1;33m             _assert_all_finite(array,\n\u001b[0m\u001b[0;32m    645\u001b[0m                                allow_nan=force_all_finite == 'allow-nan')\n\u001b[0;32m    646\u001b[0m \u001b[1;33m\u001b[0m\u001b[0m\n",
      "\u001b[1;32m~\\anaconda3\\envs\\learn-env\\lib\\site-packages\\sklearn\\utils\\validation.py\u001b[0m in \u001b[0;36m_assert_all_finite\u001b[1;34m(X, allow_nan, msg_dtype)\u001b[0m\n\u001b[0;32m     87\u001b[0m     \u001b[1;31m# safely to reduce dtype induced overflows.\u001b[0m\u001b[1;33m\u001b[0m\u001b[1;33m\u001b[0m\u001b[1;33m\u001b[0m\u001b[0m\n\u001b[0;32m     88\u001b[0m     \u001b[0mis_float\u001b[0m \u001b[1;33m=\u001b[0m \u001b[0mX\u001b[0m\u001b[1;33m.\u001b[0m\u001b[0mdtype\u001b[0m\u001b[1;33m.\u001b[0m\u001b[0mkind\u001b[0m \u001b[1;32min\u001b[0m \u001b[1;34m'fc'\u001b[0m\u001b[1;33m\u001b[0m\u001b[1;33m\u001b[0m\u001b[0m\n\u001b[1;32m---> 89\u001b[1;33m     \u001b[1;32mif\u001b[0m \u001b[0mis_float\u001b[0m \u001b[1;32mand\u001b[0m \u001b[1;33m(\u001b[0m\u001b[0mnp\u001b[0m\u001b[1;33m.\u001b[0m\u001b[0misfinite\u001b[0m\u001b[1;33m(\u001b[0m\u001b[0m_safe_accumulator_op\u001b[0m\u001b[1;33m(\u001b[0m\u001b[0mnp\u001b[0m\u001b[1;33m.\u001b[0m\u001b[0msum\u001b[0m\u001b[1;33m,\u001b[0m \u001b[0mX\u001b[0m\u001b[1;33m)\u001b[0m\u001b[1;33m)\u001b[0m\u001b[1;33m)\u001b[0m\u001b[1;33m:\u001b[0m\u001b[1;33m\u001b[0m\u001b[1;33m\u001b[0m\u001b[0m\n\u001b[0m\u001b[0;32m     90\u001b[0m         \u001b[1;32mpass\u001b[0m\u001b[1;33m\u001b[0m\u001b[1;33m\u001b[0m\u001b[0m\n\u001b[0;32m     91\u001b[0m     \u001b[1;32melif\u001b[0m \u001b[0mis_float\u001b[0m\u001b[1;33m:\u001b[0m\u001b[1;33m\u001b[0m\u001b[1;33m\u001b[0m\u001b[0m\n",
      "\u001b[1;32m~\\anaconda3\\envs\\learn-env\\lib\\site-packages\\sklearn\\utils\\extmath.py\u001b[0m in \u001b[0;36m_safe_accumulator_op\u001b[1;34m(op, x, *args, **kwargs)\u001b[0m\n\u001b[0;32m    709\u001b[0m         \u001b[0mresult\u001b[0m \u001b[1;33m=\u001b[0m \u001b[0mop\u001b[0m\u001b[1;33m(\u001b[0m\u001b[0mx\u001b[0m\u001b[1;33m,\u001b[0m \u001b[1;33m*\u001b[0m\u001b[0margs\u001b[0m\u001b[1;33m,\u001b[0m \u001b[1;33m**\u001b[0m\u001b[0mkwargs\u001b[0m\u001b[1;33m,\u001b[0m \u001b[0mdtype\u001b[0m\u001b[1;33m=\u001b[0m\u001b[0mnp\u001b[0m\u001b[1;33m.\u001b[0m\u001b[0mfloat64\u001b[0m\u001b[1;33m)\u001b[0m\u001b[1;33m\u001b[0m\u001b[1;33m\u001b[0m\u001b[0m\n\u001b[0;32m    710\u001b[0m     \u001b[1;32melse\u001b[0m\u001b[1;33m:\u001b[0m\u001b[1;33m\u001b[0m\u001b[1;33m\u001b[0m\u001b[0m\n\u001b[1;32m--> 711\u001b[1;33m         \u001b[0mresult\u001b[0m \u001b[1;33m=\u001b[0m \u001b[0mop\u001b[0m\u001b[1;33m(\u001b[0m\u001b[0mx\u001b[0m\u001b[1;33m,\u001b[0m \u001b[1;33m*\u001b[0m\u001b[0margs\u001b[0m\u001b[1;33m,\u001b[0m \u001b[1;33m**\u001b[0m\u001b[0mkwargs\u001b[0m\u001b[1;33m)\u001b[0m\u001b[1;33m\u001b[0m\u001b[1;33m\u001b[0m\u001b[0m\n\u001b[0m\u001b[0;32m    712\u001b[0m     \u001b[1;32mreturn\u001b[0m \u001b[0mresult\u001b[0m\u001b[1;33m\u001b[0m\u001b[1;33m\u001b[0m\u001b[0m\n\u001b[0;32m    713\u001b[0m \u001b[1;33m\u001b[0m\u001b[0m\n",
      "\u001b[1;32m<__array_function__ internals>\u001b[0m in \u001b[0;36msum\u001b[1;34m(*args, **kwargs)\u001b[0m\n",
      "\u001b[1;32m~\\anaconda3\\envs\\learn-env\\lib\\site-packages\\numpy\\core\\fromnumeric.py\u001b[0m in \u001b[0;36msum\u001b[1;34m(a, axis, dtype, out, keepdims, initial, where)\u001b[0m\n\u001b[0;32m   2226\u001b[0m         \u001b[1;32mreturn\u001b[0m \u001b[0mres\u001b[0m\u001b[1;33m\u001b[0m\u001b[1;33m\u001b[0m\u001b[0m\n\u001b[0;32m   2227\u001b[0m \u001b[1;33m\u001b[0m\u001b[0m\n\u001b[1;32m-> 2228\u001b[1;33m     return _wrapreduction(a, np.add, 'sum', axis, dtype, out, keepdims=keepdims,\n\u001b[0m\u001b[0;32m   2229\u001b[0m                           initial=initial, where=where)\n\u001b[0;32m   2230\u001b[0m \u001b[1;33m\u001b[0m\u001b[0m\n",
      "\u001b[1;32m~\\anaconda3\\envs\\learn-env\\lib\\site-packages\\numpy\\core\\fromnumeric.py\u001b[0m in \u001b[0;36m_wrapreduction\u001b[1;34m(obj, ufunc, method, axis, dtype, out, **kwargs)\u001b[0m\n\u001b[0;32m     88\u001b[0m                 \u001b[1;32mreturn\u001b[0m \u001b[0mreduction\u001b[0m\u001b[1;33m(\u001b[0m\u001b[0maxis\u001b[0m\u001b[1;33m=\u001b[0m\u001b[0maxis\u001b[0m\u001b[1;33m,\u001b[0m \u001b[0mout\u001b[0m\u001b[1;33m=\u001b[0m\u001b[0mout\u001b[0m\u001b[1;33m,\u001b[0m \u001b[1;33m**\u001b[0m\u001b[0mpasskwargs\u001b[0m\u001b[1;33m)\u001b[0m\u001b[1;33m\u001b[0m\u001b[1;33m\u001b[0m\u001b[0m\n\u001b[0;32m     89\u001b[0m \u001b[1;33m\u001b[0m\u001b[0m\n\u001b[1;32m---> 90\u001b[1;33m     \u001b[1;32mreturn\u001b[0m \u001b[0mufunc\u001b[0m\u001b[1;33m.\u001b[0m\u001b[0mreduce\u001b[0m\u001b[1;33m(\u001b[0m\u001b[0mobj\u001b[0m\u001b[1;33m,\u001b[0m \u001b[0maxis\u001b[0m\u001b[1;33m,\u001b[0m \u001b[0mdtype\u001b[0m\u001b[1;33m,\u001b[0m \u001b[0mout\u001b[0m\u001b[1;33m,\u001b[0m \u001b[1;33m**\u001b[0m\u001b[0mpasskwargs\u001b[0m\u001b[1;33m)\u001b[0m\u001b[1;33m\u001b[0m\u001b[1;33m\u001b[0m\u001b[0m\n\u001b[0m\u001b[0;32m     91\u001b[0m \u001b[1;33m\u001b[0m\u001b[0m\n\u001b[0;32m     92\u001b[0m \u001b[1;33m\u001b[0m\u001b[0m\n",
      "\u001b[1;31mKeyboardInterrupt\u001b[0m: "
     ]
    }
   ],
   "source": [
    "find_best(X, y, low_inits)"
   ]
  },
  {
   "cell_type": "code",
   "execution_count": 35,
   "id": "4c95d331-2fe9-44d8-b3ec-a4d718edbdc0",
   "metadata": {},
   "outputs": [
    {
     "data": {
      "text/plain": [
       "(0.6190124802573315, 0.24980318614102556)"
      ]
     },
     "execution_count": 35,
     "metadata": {},
     "output_type": "execute_result"
    }
   ],
   "source": [
    "from sklearn.metrics import r2_score, mean_squared_error\n",
    "linreg = LinearRegression()\n",
    "linreg.fit(X[low_inits], y)\n",
    "yhat = linreg.predict(X[low_inits])\n",
    "r2_score(np.exp(y), np.exp(yhat)), rmse(y, yhat)"
   ]
  },
  {
   "cell_type": "code",
   "execution_count": 36,
   "id": "9007f167-4cbc-467e-a811-2ed8bece20f0",
   "metadata": {},
   "outputs": [
    {
     "data": {
      "text/plain": [
       "<AxesSubplot:ylabel='price'>"
      ]
     },
     "execution_count": 36,
     "metadata": {},
     "output_type": "execute_result"
    },
    {
     "data": {
      "image/png": "[encoded data removed]",
      "text/plain": [
       "<Figure size 432x288 with 1 Axes>"
      ]
     },
     "metadata": {
      "needs_background": "light"
     },
     "output_type": "display_data"
    }
   ],
   "source": [
    "sns.scatterplot(x=yhat, y=y, alpha = 0.3)"
   ]
  },
  {
   "cell_type": "code",
   "execution_count": 37,
   "id": "08ee7384-457a-4ef4-8292-29bf74686851",
   "metadata": {},
   "outputs": [
    {
     "data": {
      "text/plain": [
       "<AxesSubplot:ylabel='price'>"
      ]
     },
     "execution_count": 37,
     "metadata": {},
     "output_type": "execute_result"
    },
    {
     "data": {
      "image/png": "[encoded data removed]",
      "text/plain": [
       "<Figure size 432x288 with 1 Axes>"
      ]
     },
     "metadata": {
      "needs_background": "light"
     },
     "output_type": "display_data"
    }
   ],
   "source": [
    "sns.scatterplot(x=np.exp(yhat), y=np.exp(y), alpha = 0.3)"
   ]
  },
  {
   "cell_type": "code",
   "execution_count": null,
   "id": "5e3a4455-6f8c-4d56-b1af-33f5ee3ebc29",
   "metadata": {},
   "outputs": [],
   "source": []
  }
 ],
 "metadata": {
  "kernelspec": {
   "display_name": "learn-env",
   "language": "python",
   "name": "learn-env"
  },
  "language_info": {
   "codemirror_mode": {
    "name": "ipython",
    "version": 3
   },
   "file_extension": ".py",
   "mimetype": "text/x-python",
   "name": "python",
   "nbconvert_exporter": "python",
   "pygments_lexer": "ipython3",
   "version": "3.8.5"
  }
 },
 "nbformat": 4,
 "nbformat_minor": 5
}
